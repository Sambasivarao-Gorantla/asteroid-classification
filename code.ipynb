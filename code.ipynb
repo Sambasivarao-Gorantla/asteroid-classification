{
 "cells": [
  {
   "cell_type": "code",
   "execution_count": 1,
   "id": "eaf01d59",
   "metadata": {
    "_cell_guid": "b1076dfc-b9ad-4769-8c92-a6c4dae69d19",
    "_uuid": "8f2839f25d086af736a60e9eeb907d3b93b6e0e5",
    "execution": {
     "iopub.execute_input": "2024-07-23T02:40:06.318013Z",
     "iopub.status.busy": "2024-07-23T02:40:06.316743Z",
     "iopub.status.idle": "2024-07-23T02:40:07.660370Z",
     "shell.execute_reply": "2024-07-23T02:40:07.658944Z"
    },
    "papermill": {
     "duration": 1.363609,
     "end_time": "2024-07-23T02:40:07.666856",
     "exception": false,
     "start_time": "2024-07-23T02:40:06.303247",
     "status": "completed"
    },
    "tags": []
   },
   "outputs": [
    {
     "name": "stdout",
     "output_type": "stream",
     "text": [
      "/kaggle/input/nasa-asteroids-classification/nasa.csv\n",
      "/kaggle/input/nasa-asteroids-classification/Raw_Data_JSON/Raw_Data/file2003-05-22.json\n",
      "/kaggle/input/nasa-asteroids-classification/Raw_Data_JSON/Raw_Data/file2004-10-15.json\n",
      "/kaggle/input/nasa-asteroids-classification/Raw_Data_JSON/Raw_Data/file2009-10-22.json\n",
      "/kaggle/input/nasa-asteroids-classification/Raw_Data_JSON/Raw_Data/file2014-11-22.json\n",
      "/kaggle/input/nasa-asteroids-classification/Raw_Data_JSON/Raw_Data/file1996-12-22.json\n",
      "/kaggle/input/nasa-asteroids-classification/Raw_Data_JSON/Raw_Data/file2009-10-15.json\n",
      "/kaggle/input/nasa-asteroids-classification/Raw_Data_JSON/Raw_Data/file2014-09-15.json\n",
      "/kaggle/input/nasa-asteroids-classification/Raw_Data_JSON/Raw_Data/file2006-06-22.json\n",
      "/kaggle/input/nasa-asteroids-classification/Raw_Data_JSON/Raw_Data/file2008-03-08.json\n",
      "/kaggle/input/nasa-asteroids-classification/Raw_Data_JSON/Raw_Data/file2012-08-22.json\n",
      "/kaggle/input/nasa-asteroids-classification/Raw_Data_JSON/Raw_Data/file2009-06-15.json\n",
      "/kaggle/input/nasa-asteroids-classification/Raw_Data_JSON/Raw_Data/file1995-12-15.json\n",
      "/kaggle/input/nasa-asteroids-classification/Raw_Data_JSON/Raw_Data/file1996-01-22.json\n",
      "/kaggle/input/nasa-asteroids-classification/Raw_Data_JSON/Raw_Data/file2007-12-22.json\n",
      "/kaggle/input/nasa-asteroids-classification/Raw_Data_JSON/Raw_Data/file2003-12-22.json\n",
      "/kaggle/input/nasa-asteroids-classification/Raw_Data_JSON/Raw_Data/file2003-03-08.json\n",
      "/kaggle/input/nasa-asteroids-classification/Raw_Data_JSON/Raw_Data/file2004-04-22.json\n",
      "/kaggle/input/nasa-asteroids-classification/Raw_Data_JSON/Raw_Data/file2009-12-22.json\n",
      "/kaggle/input/nasa-asteroids-classification/Raw_Data_JSON/Raw_Data/file1997-05-08.json\n",
      "/kaggle/input/nasa-asteroids-classification/Raw_Data_JSON/Raw_Data/file2009-04-22.json\n",
      "/kaggle/input/nasa-asteroids-classification/Raw_Data_JSON/Raw_Data/file1999-07-15.json\n",
      "/kaggle/input/nasa-asteroids-classification/Raw_Data_JSON/Raw_Data/file2015-08-15.json\n",
      "/kaggle/input/nasa-asteroids-classification/Raw_Data_JSON/Raw_Data/file2005-03-22.json\n",
      "/kaggle/input/nasa-asteroids-classification/Raw_Data_JSON/Raw_Data/file2016-04-22.json\n",
      "/kaggle/input/nasa-asteroids-classification/Raw_Data_JSON/Raw_Data/file2015-01-08.json\n",
      "/kaggle/input/nasa-asteroids-classification/Raw_Data_JSON/Raw_Data/file2009-03-15.json\n",
      "/kaggle/input/nasa-asteroids-classification/Raw_Data_JSON/Raw_Data/file2011-02-08.json\n",
      "/kaggle/input/nasa-asteroids-classification/Raw_Data_JSON/Raw_Data/file2006-03-15.json\n",
      "/kaggle/input/nasa-asteroids-classification/Raw_Data_JSON/Raw_Data/file2016-03-22.json\n",
      "/kaggle/input/nasa-asteroids-classification/Raw_Data_JSON/Raw_Data/file1998-10-08.json\n",
      "/kaggle/input/nasa-asteroids-classification/Raw_Data_JSON/Raw_Data/file2003-08-08.json\n",
      "/kaggle/input/nasa-asteroids-classification/Raw_Data_JSON/Raw_Data/file2006-01-08.json\n",
      "/kaggle/input/nasa-asteroids-classification/Raw_Data_JSON/Raw_Data/file2010-10-22.json\n",
      "/kaggle/input/nasa-asteroids-classification/Raw_Data_JSON/Raw_Data/file2010-03-15.json\n",
      "/kaggle/input/nasa-asteroids-classification/Raw_Data_JSON/Raw_Data/file2004-03-08.json\n",
      "/kaggle/input/nasa-asteroids-classification/Raw_Data_JSON/Raw_Data/file2011-03-22.json\n",
      "/kaggle/input/nasa-asteroids-classification/Raw_Data_JSON/Raw_Data/file2015-10-08.json\n",
      "/kaggle/input/nasa-asteroids-classification/Raw_Data_JSON/Raw_Data/file1996-08-22.json\n",
      "/kaggle/input/nasa-asteroids-classification/Raw_Data_JSON/Raw_Data/file2003-11-15.json\n",
      "/kaggle/input/nasa-asteroids-classification/Raw_Data_JSON/Raw_Data/file1996-05-22.json\n",
      "/kaggle/input/nasa-asteroids-classification/Raw_Data_JSON/Raw_Data/file1998-07-08.json\n",
      "/kaggle/input/nasa-asteroids-classification/Raw_Data_JSON/Raw_Data/file1995-03-15.json\n",
      "/kaggle/input/nasa-asteroids-classification/Raw_Data_JSON/Raw_Data/file2013-10-08.json\n",
      "/kaggle/input/nasa-asteroids-classification/Raw_Data_JSON/Raw_Data/file1997-02-08.json\n",
      "/kaggle/input/nasa-asteroids-classification/Raw_Data_JSON/Raw_Data/file2000-07-08.json\n",
      "/kaggle/input/nasa-asteroids-classification/Raw_Data_JSON/Raw_Data/file2016-06-22.json\n",
      "/kaggle/input/nasa-asteroids-classification/Raw_Data_JSON/Raw_Data/file1996-02-22.json\n",
      "/kaggle/input/nasa-asteroids-classification/Raw_Data_JSON/Raw_Data/file2014-05-15.json\n",
      "/kaggle/input/nasa-asteroids-classification/Raw_Data_JSON/Raw_Data/file2010-11-22.json\n",
      "/kaggle/input/nasa-asteroids-classification/Raw_Data_JSON/Raw_Data/file2004-11-08.json\n",
      "/kaggle/input/nasa-asteroids-classification/Raw_Data_JSON/Raw_Data/file2010-01-22.json\n",
      "/kaggle/input/nasa-asteroids-classification/Raw_Data_JSON/Raw_Data/file2008-08-08.json\n",
      "/kaggle/input/nasa-asteroids-classification/Raw_Data_JSON/Raw_Data/file1997-07-22.json\n",
      "/kaggle/input/nasa-asteroids-classification/Raw_Data_JSON/Raw_Data/file2011-11-08.json\n",
      "/kaggle/input/nasa-asteroids-classification/Raw_Data_JSON/Raw_Data/file2008-06-22.json\n",
      "/kaggle/input/nasa-asteroids-classification/Raw_Data_JSON/Raw_Data/file2009-06-08.json\n",
      "/kaggle/input/nasa-asteroids-classification/Raw_Data_JSON/Raw_Data/file2005-03-15.json\n",
      "/kaggle/input/nasa-asteroids-classification/Raw_Data_JSON/Raw_Data/file2010-07-22.json\n",
      "/kaggle/input/nasa-asteroids-classification/Raw_Data_JSON/Raw_Data/file2005-10-15.json\n",
      "/kaggle/input/nasa-asteroids-classification/Raw_Data_JSON/Raw_Data/file2016-06-08.json\n",
      "/kaggle/input/nasa-asteroids-classification/Raw_Data_JSON/Raw_Data/file2016-04-15.json\n",
      "/kaggle/input/nasa-asteroids-classification/Raw_Data_JSON/Raw_Data/file2003-12-08.json\n",
      "/kaggle/input/nasa-asteroids-classification/Raw_Data_JSON/Raw_Data/file2002-04-22.json\n",
      "/kaggle/input/nasa-asteroids-classification/Raw_Data_JSON/Raw_Data/file2015-05-08.json\n",
      "/kaggle/input/nasa-asteroids-classification/Raw_Data_JSON/Raw_Data/file2013-06-08.json\n",
      "/kaggle/input/nasa-asteroids-classification/Raw_Data_JSON/Raw_Data/file2007-01-15.json\n",
      "/kaggle/input/nasa-asteroids-classification/Raw_Data_JSON/Raw_Data/file2008-05-15.json\n",
      "/kaggle/input/nasa-asteroids-classification/Raw_Data_JSON/Raw_Data/file1999-12-15.json\n",
      "/kaggle/input/nasa-asteroids-classification/Raw_Data_JSON/Raw_Data/file1998-11-15.json\n",
      "/kaggle/input/nasa-asteroids-classification/Raw_Data_JSON/Raw_Data/file2014-08-08.json\n",
      "/kaggle/input/nasa-asteroids-classification/Raw_Data_JSON/Raw_Data/file1996-01-08.json\n",
      "/kaggle/input/nasa-asteroids-classification/Raw_Data_JSON/Raw_Data/file2005-02-08.json\n",
      "/kaggle/input/nasa-asteroids-classification/Raw_Data_JSON/Raw_Data/file2008-04-22.json\n",
      "/kaggle/input/nasa-asteroids-classification/Raw_Data_JSON/Raw_Data/file2003-09-15.json\n",
      "/kaggle/input/nasa-asteroids-classification/Raw_Data_JSON/Raw_Data/file1996-02-15.json\n",
      "/kaggle/input/nasa-asteroids-classification/Raw_Data_JSON/Raw_Data/file2011-07-08.json\n",
      "/kaggle/input/nasa-asteroids-classification/Raw_Data_JSON/Raw_Data/file2006-04-08.json\n",
      "/kaggle/input/nasa-asteroids-classification/Raw_Data_JSON/Raw_Data/file2011-01-22.json\n",
      "/kaggle/input/nasa-asteroids-classification/Raw_Data_JSON/Raw_Data/file2005-10-22.json\n",
      "/kaggle/input/nasa-asteroids-classification/Raw_Data_JSON/Raw_Data/file2015-04-08.json\n",
      "/kaggle/input/nasa-asteroids-classification/Raw_Data_JSON/Raw_Data/file1997-07-15.json\n",
      "/kaggle/input/nasa-asteroids-classification/Raw_Data_JSON/Raw_Data/file2015-04-22.json\n",
      "/kaggle/input/nasa-asteroids-classification/Raw_Data_JSON/Raw_Data/file1998-11-08.json\n",
      "/kaggle/input/nasa-asteroids-classification/Raw_Data_JSON/Raw_Data/file2013-02-08.json\n",
      "/kaggle/input/nasa-asteroids-classification/Raw_Data_JSON/Raw_Data/file2016-08-08.json\n",
      "/kaggle/input/nasa-asteroids-classification/Raw_Data_JSON/Raw_Data/file1999-02-22.json\n",
      "/kaggle/input/nasa-asteroids-classification/Raw_Data_JSON/Raw_Data/file2002-09-15.json\n",
      "/kaggle/input/nasa-asteroids-classification/Raw_Data_JSON/Raw_Data/file2004-08-08.json\n",
      "/kaggle/input/nasa-asteroids-classification/Raw_Data_JSON/Raw_Data/file2010-04-22.json\n",
      "/kaggle/input/nasa-asteroids-classification/Raw_Data_JSON/Raw_Data/file1995-02-22.json\n",
      "/kaggle/input/nasa-asteroids-classification/Raw_Data_JSON/Raw_Data/file2010-12-22.json\n",
      "/kaggle/input/nasa-asteroids-classification/Raw_Data_JSON/Raw_Data/file2003-04-08.json\n",
      "/kaggle/input/nasa-asteroids-classification/Raw_Data_JSON/Raw_Data/file2005-01-22.json\n",
      "/kaggle/input/nasa-asteroids-classification/Raw_Data_JSON/Raw_Data/file2007-03-15.json\n",
      "/kaggle/input/nasa-asteroids-classification/Raw_Data_JSON/Raw_Data/file2012-07-15.json\n",
      "/kaggle/input/nasa-asteroids-classification/Raw_Data_JSON/Raw_Data/file1999-02-08.json\n",
      "/kaggle/input/nasa-asteroids-classification/Raw_Data_JSON/Raw_Data/file2001-06-08.json\n",
      "/kaggle/input/nasa-asteroids-classification/Raw_Data_JSON/Raw_Data/file2006-04-22.json\n",
      "/kaggle/input/nasa-asteroids-classification/Raw_Data_JSON/Raw_Data/file2006-02-22.json\n",
      "/kaggle/input/nasa-asteroids-classification/Raw_Data_JSON/Raw_Data/file2015-02-22.json\n",
      "/kaggle/input/nasa-asteroids-classification/Raw_Data_JSON/Raw_Data/file2009-08-08.json\n",
      "/kaggle/input/nasa-asteroids-classification/Raw_Data_JSON/Raw_Data/file1997-11-15.json\n",
      "/kaggle/input/nasa-asteroids-classification/Raw_Data_JSON/Raw_Data/file2010-07-08.json\n",
      "/kaggle/input/nasa-asteroids-classification/Raw_Data_JSON/Raw_Data/file2004-08-15.json\n",
      "/kaggle/input/nasa-asteroids-classification/Raw_Data_JSON/Raw_Data/file2001-11-22.json\n",
      "/kaggle/input/nasa-asteroids-classification/Raw_Data_JSON/Raw_Data/file2002-06-08.json\n",
      "/kaggle/input/nasa-asteroids-classification/Raw_Data_JSON/Raw_Data/file2002-08-22.json\n",
      "/kaggle/input/nasa-asteroids-classification/Raw_Data_JSON/Raw_Data/file2007-09-08.json\n",
      "/kaggle/input/nasa-asteroids-classification/Raw_Data_JSON/Raw_Data/file2005-08-08.json\n",
      "/kaggle/input/nasa-asteroids-classification/Raw_Data_JSON/Raw_Data/file2000-07-22.json\n",
      "/kaggle/input/nasa-asteroids-classification/Raw_Data_JSON/Raw_Data/file2007-06-22.json\n",
      "/kaggle/input/nasa-asteroids-classification/Raw_Data_JSON/Raw_Data/file1999-01-15.json\n",
      "/kaggle/input/nasa-asteroids-classification/Raw_Data_JSON/Raw_Data/file1998-12-22.json\n",
      "/kaggle/input/nasa-asteroids-classification/Raw_Data_JSON/Raw_Data/file1999-09-15.json\n",
      "/kaggle/input/nasa-asteroids-classification/Raw_Data_JSON/Raw_Data/file2015-08-08.json\n",
      "/kaggle/input/nasa-asteroids-classification/Raw_Data_JSON/Raw_Data/file2012-09-08.json\n",
      "/kaggle/input/nasa-asteroids-classification/Raw_Data_JSON/Raw_Data/file1999-11-15.json\n",
      "/kaggle/input/nasa-asteroids-classification/Raw_Data_JSON/Raw_Data/file2000-11-08.json\n",
      "/kaggle/input/nasa-asteroids-classification/Raw_Data_JSON/Raw_Data/file2009-01-15.json\n",
      "/kaggle/input/nasa-asteroids-classification/Raw_Data_JSON/Raw_Data/file2011-08-08.json\n",
      "/kaggle/input/nasa-asteroids-classification/Raw_Data_JSON/Raw_Data/file2011-10-22.json\n",
      "/kaggle/input/nasa-asteroids-classification/Raw_Data_JSON/Raw_Data/file2005-07-22.json\n",
      "/kaggle/input/nasa-asteroids-classification/Raw_Data_JSON/Raw_Data/file1996-03-22.json\n",
      "/kaggle/input/nasa-asteroids-classification/Raw_Data_JSON/Raw_Data/file2009-10-08.json\n",
      "/kaggle/input/nasa-asteroids-classification/Raw_Data_JSON/Raw_Data/file1999-06-08.json\n",
      "/kaggle/input/nasa-asteroids-classification/Raw_Data_JSON/Raw_Data/file2002-07-22.json\n",
      "/kaggle/input/nasa-asteroids-classification/Raw_Data_JSON/Raw_Data/file2005-09-22.json\n",
      "/kaggle/input/nasa-asteroids-classification/Raw_Data_JSON/Raw_Data/file2012-09-15.json\n",
      "/kaggle/input/nasa-asteroids-classification/Raw_Data_JSON/Raw_Data/file1996-11-15.json\n",
      "/kaggle/input/nasa-asteroids-classification/Raw_Data_JSON/Raw_Data/file2009-02-15.json\n",
      "/kaggle/input/nasa-asteroids-classification/Raw_Data_JSON/Raw_Data/file2003-05-15.json\n",
      "/kaggle/input/nasa-asteroids-classification/Raw_Data_JSON/Raw_Data/file2014-08-15.json\n",
      "/kaggle/input/nasa-asteroids-classification/Raw_Data_JSON/Raw_Data/file2015-11-22.json\n",
      "/kaggle/input/nasa-asteroids-classification/Raw_Data_JSON/Raw_Data/file1999-02-15.json\n",
      "/kaggle/input/nasa-asteroids-classification/Raw_Data_JSON/Raw_Data/file2006-12-22.json\n",
      "/kaggle/input/nasa-asteroids-classification/Raw_Data_JSON/Raw_Data/file2000-10-15.json\n",
      "/kaggle/input/nasa-asteroids-classification/Raw_Data_JSON/Raw_Data/file1999-05-22.json\n",
      "/kaggle/input/nasa-asteroids-classification/Raw_Data_JSON/Raw_Data/file1996-12-08.json\n",
      "/kaggle/input/nasa-asteroids-classification/Raw_Data_JSON/Raw_Data/file2014-10-22.json\n",
      "/kaggle/input/nasa-asteroids-classification/Raw_Data_JSON/Raw_Data/file2014-08-22.json\n",
      "/kaggle/input/nasa-asteroids-classification/Raw_Data_JSON/Raw_Data/file2016-09-08.json\n",
      "/kaggle/input/nasa-asteroids-classification/Raw_Data_JSON/Raw_Data/file2012-03-15.json\n",
      "/kaggle/input/nasa-asteroids-classification/Raw_Data_JSON/Raw_Data/file2001-10-15.json\n",
      "/kaggle/input/nasa-asteroids-classification/Raw_Data_JSON/Raw_Data/file2006-06-15.json\n",
      "/kaggle/input/nasa-asteroids-classification/Raw_Data_JSON/Raw_Data/file2005-10-08.json\n",
      "/kaggle/input/nasa-asteroids-classification/Raw_Data_JSON/Raw_Data/file1998-01-08.json\n",
      "/kaggle/input/nasa-asteroids-classification/Raw_Data_JSON/Raw_Data/file1995-01-22.json\n",
      "/kaggle/input/nasa-asteroids-classification/Raw_Data_JSON/Raw_Data/file2012-05-15.json\n",
      "/kaggle/input/nasa-asteroids-classification/Raw_Data_JSON/Raw_Data/file2007-02-15.json\n",
      "/kaggle/input/nasa-asteroids-classification/Raw_Data_JSON/Raw_Data/file2009-07-15.json\n",
      "/kaggle/input/nasa-asteroids-classification/Raw_Data_JSON/Raw_Data/file1999-12-22.json\n",
      "/kaggle/input/nasa-asteroids-classification/Raw_Data_JSON/Raw_Data/file2008-01-22.json\n",
      "/kaggle/input/nasa-asteroids-classification/Raw_Data_JSON/Raw_Data/file2011-08-22.json\n",
      "/kaggle/input/nasa-asteroids-classification/Raw_Data_JSON/Raw_Data/file1999-07-22.json\n",
      "/kaggle/input/nasa-asteroids-classification/Raw_Data_JSON/Raw_Data/file2008-08-22.json\n",
      "/kaggle/input/nasa-asteroids-classification/Raw_Data_JSON/Raw_Data/file2015-03-08.json\n",
      "/kaggle/input/nasa-asteroids-classification/Raw_Data_JSON/Raw_Data/file1998-02-15.json\n",
      "/kaggle/input/nasa-asteroids-classification/Raw_Data_JSON/Raw_Data/file2011-01-15.json\n",
      "/kaggle/input/nasa-asteroids-classification/Raw_Data_JSON/Raw_Data/file2010-08-08.json\n",
      "/kaggle/input/nasa-asteroids-classification/Raw_Data_JSON/Raw_Data/file2015-02-08.json\n",
      "/kaggle/input/nasa-asteroids-classification/Raw_Data_JSON/Raw_Data/file2002-06-15.json\n",
      "/kaggle/input/nasa-asteroids-classification/Raw_Data_JSON/Raw_Data/file1997-12-22.json\n",
      "/kaggle/input/nasa-asteroids-classification/Raw_Data_JSON/Raw_Data/file2007-09-15.json\n",
      "/kaggle/input/nasa-asteroids-classification/Raw_Data_JSON/Raw_Data/file1997-07-08.json\n",
      "/kaggle/input/nasa-asteroids-classification/Raw_Data_JSON/Raw_Data/file2002-07-15.json\n",
      "/kaggle/input/nasa-asteroids-classification/Raw_Data_JSON/Raw_Data/file2012-12-22.json\n",
      "/kaggle/input/nasa-asteroids-classification/Raw_Data_JSON/Raw_Data/file2009-04-08.json\n",
      "/kaggle/input/nasa-asteroids-classification/Raw_Data_JSON/Raw_Data/file2009-01-22.json\n",
      "/kaggle/input/nasa-asteroids-classification/Raw_Data_JSON/Raw_Data/file2013-01-15.json\n",
      "/kaggle/input/nasa-asteroids-classification/Raw_Data_JSON/Raw_Data/file1999-01-08.json\n",
      "/kaggle/input/nasa-asteroids-classification/Raw_Data_JSON/Raw_Data/file2007-11-22.json\n",
      "/kaggle/input/nasa-asteroids-classification/Raw_Data_JSON/Raw_Data/file2000-02-15.json\n",
      "/kaggle/input/nasa-asteroids-classification/Raw_Data_JSON/Raw_Data/file2004-10-08.json\n",
      "/kaggle/input/nasa-asteroids-classification/Raw_Data_JSON/Raw_Data/file1995-04-22.json\n",
      "/kaggle/input/nasa-asteroids-classification/Raw_Data_JSON/Raw_Data/file2008-09-08.json\n",
      "/kaggle/input/nasa-asteroids-classification/Raw_Data_JSON/Raw_Data/file1995-05-22.json\n",
      "/kaggle/input/nasa-asteroids-classification/Raw_Data_JSON/Raw_Data/file2013-04-15.json\n",
      "/kaggle/input/nasa-asteroids-classification/Raw_Data_JSON/Raw_Data/file2007-05-08.json\n",
      "/kaggle/input/nasa-asteroids-classification/Raw_Data_JSON/Raw_Data/file2013-11-15.json\n",
      "/kaggle/input/nasa-asteroids-classification/Raw_Data_JSON/Raw_Data/file2016-01-15.json\n",
      "/kaggle/input/nasa-asteroids-classification/Raw_Data_JSON/Raw_Data/file1998-01-22.json\n",
      "/kaggle/input/nasa-asteroids-classification/Raw_Data_JSON/Raw_Data/file2001-03-08.json\n",
      "/kaggle/input/nasa-asteroids-classification/Raw_Data_JSON/Raw_Data/file1995-03-08.json\n",
      "/kaggle/input/nasa-asteroids-classification/Raw_Data_JSON/Raw_Data/file2011-11-22.json\n",
      "/kaggle/input/nasa-asteroids-classification/Raw_Data_JSON/Raw_Data/file1998-10-22.json\n",
      "/kaggle/input/nasa-asteroids-classification/Raw_Data_JSON/Raw_Data/file2009-11-08.json\n",
      "/kaggle/input/nasa-asteroids-classification/Raw_Data_JSON/Raw_Data/file1998-02-22.json\n",
      "/kaggle/input/nasa-asteroids-classification/Raw_Data_JSON/Raw_Data/file1997-10-15.json\n",
      "/kaggle/input/nasa-asteroids-classification/Raw_Data_JSON/Raw_Data/file2002-05-22.json\n",
      "/kaggle/input/nasa-asteroids-classification/Raw_Data_JSON/Raw_Data/file2010-09-08.json\n",
      "/kaggle/input/nasa-asteroids-classification/Raw_Data_JSON/Raw_Data/file2009-02-08.json\n",
      "/kaggle/input/nasa-asteroids-classification/Raw_Data_JSON/Raw_Data/file2001-05-15.json\n",
      "/kaggle/input/nasa-asteroids-classification/Raw_Data_JSON/Raw_Data/file2007-09-22.json\n",
      "/kaggle/input/nasa-asteroids-classification/Raw_Data_JSON/Raw_Data/file2013-12-22.json\n",
      "/kaggle/input/nasa-asteroids-classification/Raw_Data_JSON/Raw_Data/file2001-11-15.json\n",
      "/kaggle/input/nasa-asteroids-classification/Raw_Data_JSON/Raw_Data/file2009-07-22.json\n",
      "/kaggle/input/nasa-asteroids-classification/Raw_Data_JSON/Raw_Data/file2000-08-15.json\n",
      "/kaggle/input/nasa-asteroids-classification/Raw_Data_JSON/Raw_Data/file2007-04-22.json\n",
      "/kaggle/input/nasa-asteroids-classification/Raw_Data_JSON/Raw_Data/file2012-06-22.json\n",
      "/kaggle/input/nasa-asteroids-classification/Raw_Data_JSON/Raw_Data/file2003-11-22.json\n",
      "/kaggle/input/nasa-asteroids-classification/Raw_Data_JSON/Raw_Data/file2015-07-22.json\n",
      "/kaggle/input/nasa-asteroids-classification/Raw_Data_JSON/Raw_Data/file2015-06-22.json\n",
      "/kaggle/input/nasa-asteroids-classification/Raw_Data_JSON/Raw_Data/file1998-11-22.json\n",
      "/kaggle/input/nasa-asteroids-classification/Raw_Data_JSON/Raw_Data/file1997-03-15.json\n",
      "/kaggle/input/nasa-asteroids-classification/Raw_Data_JSON/Raw_Data/file2008-12-15.json\n",
      "/kaggle/input/nasa-asteroids-classification/Raw_Data_JSON/Raw_Data/file1996-07-15.json\n",
      "/kaggle/input/nasa-asteroids-classification/Raw_Data_JSON/Raw_Data/file2010-05-08.json\n",
      "/kaggle/input/nasa-asteroids-classification/Raw_Data_JSON/Raw_Data/file2006-03-08.json\n",
      "/kaggle/input/nasa-asteroids-classification/Raw_Data_JSON/Raw_Data/file2011-06-08.json\n",
      "/kaggle/input/nasa-asteroids-classification/Raw_Data_JSON/Raw_Data/file2011-01-08.json\n",
      "/kaggle/input/nasa-asteroids-classification/Raw_Data_JSON/Raw_Data/file2000-08-08.json\n",
      "/kaggle/input/nasa-asteroids-classification/Raw_Data_JSON/Raw_Data/file2013-12-15.json\n",
      "/kaggle/input/nasa-asteroids-classification/Raw_Data_JSON/Raw_Data/file2006-06-08.json\n",
      "/kaggle/input/nasa-asteroids-classification/Raw_Data_JSON/Raw_Data/file2010-04-15.json\n",
      "/kaggle/input/nasa-asteroids-classification/Raw_Data_JSON/Raw_Data/file2014-09-08.json\n",
      "/kaggle/input/nasa-asteroids-classification/Raw_Data_JSON/Raw_Data/file2008-05-22.json\n",
      "/kaggle/input/nasa-asteroids-classification/Raw_Data_JSON/Raw_Data/file2014-04-08.json\n",
      "/kaggle/input/nasa-asteroids-classification/Raw_Data_JSON/Raw_Data/file1999-04-15.json\n",
      "/kaggle/input/nasa-asteroids-classification/Raw_Data_JSON/Raw_Data/file1999-10-15.json\n",
      "/kaggle/input/nasa-asteroids-classification/Raw_Data_JSON/Raw_Data/file2001-03-15.json\n",
      "/kaggle/input/nasa-asteroids-classification/Raw_Data_JSON/Raw_Data/file2012-01-15.json\n",
      "/kaggle/input/nasa-asteroids-classification/Raw_Data_JSON/Raw_Data/file2007-01-08.json\n",
      "/kaggle/input/nasa-asteroids-classification/Raw_Data_JSON/Raw_Data/file2003-06-08.json\n",
      "/kaggle/input/nasa-asteroids-classification/Raw_Data_JSON/Raw_Data/file2016-02-15.json\n",
      "/kaggle/input/nasa-asteroids-classification/Raw_Data_JSON/Raw_Data/file2000-12-22.json\n",
      "/kaggle/input/nasa-asteroids-classification/Raw_Data_JSON/Raw_Data/file1996-08-08.json\n",
      "/kaggle/input/nasa-asteroids-classification/Raw_Data_JSON/Raw_Data/file2000-06-22.json\n",
      "/kaggle/input/nasa-asteroids-classification/Raw_Data_JSON/Raw_Data/file2008-11-22.json\n",
      "/kaggle/input/nasa-asteroids-classification/Raw_Data_JSON/Raw_Data/file1999-03-08.json\n",
      "/kaggle/input/nasa-asteroids-classification/Raw_Data_JSON/Raw_Data/file2003-01-08.json\n",
      "/kaggle/input/nasa-asteroids-classification/Raw_Data_JSON/Raw_Data/file2011-09-08.json\n",
      "/kaggle/input/nasa-asteroids-classification/Raw_Data_JSON/Raw_Data/file2005-09-08.json\n",
      "/kaggle/input/nasa-asteroids-classification/Raw_Data_JSON/Raw_Data/file2009-09-15.json\n",
      "/kaggle/input/nasa-asteroids-classification/Raw_Data_JSON/Raw_Data/file2006-11-08.json\n",
      "/kaggle/input/nasa-asteroids-classification/Raw_Data_JSON/Raw_Data/file2005-03-08.json\n",
      "/kaggle/input/nasa-asteroids-classification/Raw_Data_JSON/Raw_Data/file2006-04-15.json\n",
      "/kaggle/input/nasa-asteroids-classification/Raw_Data_JSON/Raw_Data/file2015-10-15.json\n",
      "/kaggle/input/nasa-asteroids-classification/Raw_Data_JSON/Raw_Data/file2002-12-08.json\n",
      "/kaggle/input/nasa-asteroids-classification/Raw_Data_JSON/Raw_Data/file2000-07-15.json\n",
      "/kaggle/input/nasa-asteroids-classification/Raw_Data_JSON/Raw_Data/file2001-12-08.json\n",
      "/kaggle/input/nasa-asteroids-classification/Raw_Data_JSON/Raw_Data/file2009-01-08.json\n",
      "/kaggle/input/nasa-asteroids-classification/Raw_Data_JSON/Raw_Data/file2004-11-22.json\n",
      "/kaggle/input/nasa-asteroids-classification/Raw_Data_JSON/Raw_Data/file2001-01-15.json\n",
      "/kaggle/input/nasa-asteroids-classification/Raw_Data_JSON/Raw_Data/file2000-05-08.json\n",
      "/kaggle/input/nasa-asteroids-classification/Raw_Data_JSON/Raw_Data/file2002-04-08.json\n",
      "/kaggle/input/nasa-asteroids-classification/Raw_Data_JSON/Raw_Data/file2000-06-15.json\n",
      "/kaggle/input/nasa-asteroids-classification/Raw_Data_JSON/Raw_Data/file1998-05-08.json\n",
      "/kaggle/input/nasa-asteroids-classification/Raw_Data_JSON/Raw_Data/file1999-12-08.json\n",
      "/kaggle/input/nasa-asteroids-classification/Raw_Data_JSON/Raw_Data/file2003-07-08.json\n",
      "/kaggle/input/nasa-asteroids-classification/Raw_Data_JSON/Raw_Data/file2004-03-15.json\n",
      "/kaggle/input/nasa-asteroids-classification/Raw_Data_JSON/Raw_Data/file2015-02-15.json\n",
      "/kaggle/input/nasa-asteroids-classification/Raw_Data_JSON/Raw_Data/file1998-08-22.json\n",
      "/kaggle/input/nasa-asteroids-classification/Raw_Data_JSON/Raw_Data/file1996-07-08.json\n",
      "/kaggle/input/nasa-asteroids-classification/Raw_Data_JSON/Raw_Data/file2003-03-15.json\n",
      "/kaggle/input/nasa-asteroids-classification/Raw_Data_JSON/Raw_Data/file2005-11-08.json\n",
      "/kaggle/input/nasa-asteroids-classification/Raw_Data_JSON/Raw_Data/file2002-12-22.json\n",
      "/kaggle/input/nasa-asteroids-classification/Raw_Data_JSON/Raw_Data/file2010-09-15.json\n",
      "/kaggle/input/nasa-asteroids-classification/Raw_Data_JSON/Raw_Data/file2015-05-15.json\n",
      "/kaggle/input/nasa-asteroids-classification/Raw_Data_JSON/Raw_Data/file2016-02-08.json\n",
      "/kaggle/input/nasa-asteroids-classification/Raw_Data_JSON/Raw_Data/file2014-01-22.json\n",
      "/kaggle/input/nasa-asteroids-classification/Raw_Data_JSON/Raw_Data/file1995-08-08.json\n",
      "/kaggle/input/nasa-asteroids-classification/Raw_Data_JSON/Raw_Data/file1995-11-15.json\n",
      "/kaggle/input/nasa-asteroids-classification/Raw_Data_JSON/Raw_Data/file2003-08-22.json\n",
      "/kaggle/input/nasa-asteroids-classification/Raw_Data_JSON/Raw_Data/file2005-12-15.json\n",
      "/kaggle/input/nasa-asteroids-classification/Raw_Data_JSON/Raw_Data/file2001-12-22.json\n",
      "/kaggle/input/nasa-asteroids-classification/Raw_Data_JSON/Raw_Data/file1997-06-15.json\n",
      "/kaggle/input/nasa-asteroids-classification/Raw_Data_JSON/Raw_Data/file1997-10-08.json\n",
      "/kaggle/input/nasa-asteroids-classification/Raw_Data_JSON/Raw_Data/file1999-10-08.json\n",
      "/kaggle/input/nasa-asteroids-classification/Raw_Data_JSON/Raw_Data/file2003-12-15.json\n",
      "/kaggle/input/nasa-asteroids-classification/Raw_Data_JSON/Raw_Data/file2008-07-08.json\n",
      "/kaggle/input/nasa-asteroids-classification/Raw_Data_JSON/Raw_Data/file2011-04-08.json\n",
      "/kaggle/input/nasa-asteroids-classification/Raw_Data_JSON/Raw_Data/file1996-05-15.json\n",
      "/kaggle/input/nasa-asteroids-classification/Raw_Data_JSON/Raw_Data/file2012-04-22.json\n",
      "/kaggle/input/nasa-asteroids-classification/Raw_Data_JSON/Raw_Data/file2007-03-22.json\n",
      "/kaggle/input/nasa-asteroids-classification/Raw_Data_JSON/Raw_Data/file2002-02-15.json\n",
      "/kaggle/input/nasa-asteroids-classification/Raw_Data_JSON/Raw_Data/file2006-07-15.json\n",
      "/kaggle/input/nasa-asteroids-classification/Raw_Data_JSON/Raw_Data/file2003-11-08.json\n",
      "/kaggle/input/nasa-asteroids-classification/Raw_Data_JSON/Raw_Data/file2010-02-08.json\n",
      "/kaggle/input/nasa-asteroids-classification/Raw_Data_JSON/Raw_Data/file2001-07-15.json\n",
      "/kaggle/input/nasa-asteroids-classification/Raw_Data_JSON/Raw_Data/file2000-12-08.json\n",
      "/kaggle/input/nasa-asteroids-classification/Raw_Data_JSON/Raw_Data/file2004-10-22.json\n",
      "/kaggle/input/nasa-asteroids-classification/Raw_Data_JSON/Raw_Data/file1995-01-01.json\n",
      "/kaggle/input/nasa-asteroids-classification/Raw_Data_JSON/Raw_Data/file2004-12-08.json\n",
      "/kaggle/input/nasa-asteroids-classification/Raw_Data_JSON/Raw_Data/file2012-11-22.json\n",
      "/kaggle/input/nasa-asteroids-classification/Raw_Data_JSON/Raw_Data/file1995-10-22.json\n",
      "/kaggle/input/nasa-asteroids-classification/Raw_Data_JSON/Raw_Data/file2012-08-15.json\n",
      "/kaggle/input/nasa-asteroids-classification/Raw_Data_JSON/Raw_Data/file2006-10-08.json\n",
      "/kaggle/input/nasa-asteroids-classification/Raw_Data_JSON/Raw_Data/file2016-08-15.json\n",
      "/kaggle/input/nasa-asteroids-classification/Raw_Data_JSON/Raw_Data/file2016-03-15.json\n",
      "/kaggle/input/nasa-asteroids-classification/Raw_Data_JSON/Raw_Data/file2000-06-08.json\n",
      "/kaggle/input/nasa-asteroids-classification/Raw_Data_JSON/Raw_Data/file1996-09-08.json\n",
      "/kaggle/input/nasa-asteroids-classification/Raw_Data_JSON/Raw_Data/file1996-06-08.json\n",
      "/kaggle/input/nasa-asteroids-classification/Raw_Data_JSON/Raw_Data/file2010-10-15.json\n",
      "/kaggle/input/nasa-asteroids-classification/Raw_Data_JSON/Raw_Data/file2002-10-08.json\n",
      "/kaggle/input/nasa-asteroids-classification/Raw_Data_JSON/Raw_Data/file2007-02-22.json\n",
      "/kaggle/input/nasa-asteroids-classification/Raw_Data_JSON/Raw_Data/file1996-08-15.json\n",
      "/kaggle/input/nasa-asteroids-classification/Raw_Data_JSON/Raw_Data/file2006-08-15.json\n",
      "/kaggle/input/nasa-asteroids-classification/Raw_Data_JSON/Raw_Data/file2014-01-08.json\n",
      "/kaggle/input/nasa-asteroids-classification/Raw_Data_JSON/Raw_Data/file2004-05-08.json\n",
      "/kaggle/input/nasa-asteroids-classification/Raw_Data_JSON/Raw_Data/file2006-11-22.json\n",
      "/kaggle/input/nasa-asteroids-classification/Raw_Data_JSON/Raw_Data/file2012-02-08.json\n",
      "/kaggle/input/nasa-asteroids-classification/Raw_Data_JSON/Raw_Data/file2000-10-08.json\n",
      "/kaggle/input/nasa-asteroids-classification/Raw_Data_JSON/Raw_Data/file2004-08-22.json\n",
      "/kaggle/input/nasa-asteroids-classification/Raw_Data_JSON/Raw_Data/file2002-01-22.json\n",
      "/kaggle/input/nasa-asteroids-classification/Raw_Data_JSON/Raw_Data/file2006-07-22.json\n",
      "/kaggle/input/nasa-asteroids-classification/Raw_Data_JSON/Raw_Data/file2003-10-22.json\n",
      "/kaggle/input/nasa-asteroids-classification/Raw_Data_JSON/Raw_Data/file1997-02-15.json\n",
      "/kaggle/input/nasa-asteroids-classification/Raw_Data_JSON/Raw_Data/file2009-12-08.json\n",
      "/kaggle/input/nasa-asteroids-classification/Raw_Data_JSON/Raw_Data/file2015-09-08.json\n",
      "/kaggle/input/nasa-asteroids-classification/Raw_Data_JSON/Raw_Data/file2012-10-08.json\n",
      "/kaggle/input/nasa-asteroids-classification/Raw_Data_JSON/Raw_Data/file2007-04-15.json\n",
      "/kaggle/input/nasa-asteroids-classification/Raw_Data_JSON/Raw_Data/file1999-09-08.json\n",
      "/kaggle/input/nasa-asteroids-classification/Raw_Data_JSON/Raw_Data/file2007-06-08.json\n",
      "/kaggle/input/nasa-asteroids-classification/Raw_Data_JSON/Raw_Data/file2016-07-08.json\n",
      "/kaggle/input/nasa-asteroids-classification/Raw_Data_JSON/Raw_Data/file2008-01-15.json\n",
      "/kaggle/input/nasa-asteroids-classification/Raw_Data_JSON/Raw_Data/file2009-05-22.json\n",
      "/kaggle/input/nasa-asteroids-classification/Raw_Data_JSON/Raw_Data/file2014-01-15.json\n",
      "/kaggle/input/nasa-asteroids-classification/Raw_Data_JSON/Raw_Data/file1996-10-08.json\n",
      "/kaggle/input/nasa-asteroids-classification/Raw_Data_JSON/Raw_Data/file2003-07-22.json\n",
      "/kaggle/input/nasa-asteroids-classification/Raw_Data_JSON/Raw_Data/file2006-05-15.json\n",
      "/kaggle/input/nasa-asteroids-classification/Raw_Data_JSON/Raw_Data/file2011-10-08.json\n",
      "/kaggle/input/nasa-asteroids-classification/Raw_Data_JSON/Raw_Data/file1997-01-08.json\n",
      "/kaggle/input/nasa-asteroids-classification/Raw_Data_JSON/Raw_Data/file2012-12-15.json\n",
      "/kaggle/input/nasa-asteroids-classification/Raw_Data_JSON/Raw_Data/file2005-08-22.json\n",
      "/kaggle/input/nasa-asteroids-classification/Raw_Data_JSON/Raw_Data/file2010-02-15.json\n",
      "/kaggle/input/nasa-asteroids-classification/Raw_Data_JSON/Raw_Data/file1997-04-15.json\n",
      "/kaggle/input/nasa-asteroids-classification/Raw_Data_JSON/Raw_Data/file1995-03-22.json\n",
      "/kaggle/input/nasa-asteroids-classification/Raw_Data_JSON/Raw_Data/file2014-02-08.json\n",
      "/kaggle/input/nasa-asteroids-classification/Raw_Data_JSON/Raw_Data/file2001-01-08.json\n",
      "/kaggle/input/nasa-asteroids-classification/Raw_Data_JSON/Raw_Data/file2002-03-22.json\n",
      "/kaggle/input/nasa-asteroids-classification/Raw_Data_JSON/Raw_Data/file2016-01-08.json\n",
      "/kaggle/input/nasa-asteroids-classification/Raw_Data_JSON/Raw_Data/file2013-04-08.json\n",
      "/kaggle/input/nasa-asteroids-classification/Raw_Data_JSON/Raw_Data/file2015-06-08.json\n",
      "/kaggle/input/nasa-asteroids-classification/Raw_Data_JSON/Raw_Data/file2003-01-22.json\n",
      "/kaggle/input/nasa-asteroids-classification/Raw_Data_JSON/Raw_Data/file2007-11-08.json\n",
      "/kaggle/input/nasa-asteroids-classification/Raw_Data_JSON/Raw_Data/file2003-06-22.json\n",
      "/kaggle/input/nasa-asteroids-classification/Raw_Data_JSON/Raw_Data/file2008-12-08.json\n",
      "/kaggle/input/nasa-asteroids-classification/Raw_Data_JSON/Raw_Data/file2015-12-22.json\n",
      "/kaggle/input/nasa-asteroids-classification/Raw_Data_JSON/Raw_Data/file1997-08-22.json\n",
      "/kaggle/input/nasa-asteroids-classification/Raw_Data_JSON/Raw_Data/file2003-03-22.json\n",
      "/kaggle/input/nasa-asteroids-classification/Raw_Data_JSON/Raw_Data/file2014-03-22.json\n",
      "/kaggle/input/nasa-asteroids-classification/Raw_Data_JSON/Raw_Data/file2015-11-08.json\n",
      "/kaggle/input/nasa-asteroids-classification/Raw_Data_JSON/Raw_Data/file1995-07-22.json\n",
      "/kaggle/input/nasa-asteroids-classification/Raw_Data_JSON/Raw_Data/file2012-10-15.json\n",
      "/kaggle/input/nasa-asteroids-classification/Raw_Data_JSON/Raw_Data/file1999-03-22.json\n",
      "/kaggle/input/nasa-asteroids-classification/Raw_Data_JSON/Raw_Data/file1.json\n",
      "/kaggle/input/nasa-asteroids-classification/Raw_Data_JSON/Raw_Data/file2001-01-22.json\n",
      "/kaggle/input/nasa-asteroids-classification/Raw_Data_JSON/Raw_Data/file2011-07-22.json\n",
      "/kaggle/input/nasa-asteroids-classification/Raw_Data_JSON/Raw_Data/file2005-05-15.json\n",
      "/kaggle/input/nasa-asteroids-classification/Raw_Data_JSON/Raw_Data/file1997-08-08.json\n",
      "/kaggle/input/nasa-asteroids-classification/Raw_Data_JSON/Raw_Data/file2013-04-22.json\n",
      "/kaggle/input/nasa-asteroids-classification/Raw_Data_JSON/Raw_Data/file2011-12-15.json\n",
      "/kaggle/input/nasa-asteroids-classification/Raw_Data_JSON/Raw_Data/file2004-02-15.json\n",
      "/kaggle/input/nasa-asteroids-classification/Raw_Data_JSON/Raw_Data/file2011-05-15.json\n",
      "/kaggle/input/nasa-asteroids-classification/Raw_Data_JSON/Raw_Data/file1998-09-22.json\n",
      "/kaggle/input/nasa-asteroids-classification/Raw_Data_JSON/Raw_Data/file2013-06-22.json\n",
      "/kaggle/input/nasa-asteroids-classification/Raw_Data_JSON/Raw_Data/file2008-03-22.json\n",
      "/kaggle/input/nasa-asteroids-classification/Raw_Data_JSON/Raw_Data/file2001-10-08.json\n",
      "/kaggle/input/nasa-asteroids-classification/Raw_Data_JSON/Raw_Data/file2004-07-08.json\n",
      "/kaggle/input/nasa-asteroids-classification/Raw_Data_JSON/Raw_Data/file2000-12-15.json\n",
      "/kaggle/input/nasa-asteroids-classification/Raw_Data_JSON/Raw_Data/file2007-11-15.json\n",
      "/kaggle/input/nasa-asteroids-classification/Raw_Data_JSON/Raw_Data/file2016-04-08.json\n",
      "/kaggle/input/nasa-asteroids-classification/Raw_Data_JSON/Raw_Data/file2011-12-22.json\n",
      "/kaggle/input/nasa-asteroids-classification/Raw_Data_JSON/Raw_Data/file1998-05-15.json\n",
      "/kaggle/input/nasa-asteroids-classification/Raw_Data_JSON/Raw_Data/file1995-09-15.json\n",
      "/kaggle/input/nasa-asteroids-classification/Raw_Data_JSON/Raw_Data/file1999-09-22.json\n",
      "/kaggle/input/nasa-asteroids-classification/Raw_Data_JSON/Raw_Data/file2001-02-22.json\n",
      "/kaggle/input/nasa-asteroids-classification/Raw_Data_JSON/Raw_Data/file2013-06-15.json\n",
      "/kaggle/input/nasa-asteroids-classification/Raw_Data_JSON/Raw_Data/file2005-05-08.json\n",
      "/kaggle/input/nasa-asteroids-classification/Raw_Data_JSON/Raw_Data/file2007-10-15.json\n",
      "/kaggle/input/nasa-asteroids-classification/Raw_Data_JSON/Raw_Data/file2002-07-08.json\n",
      "/kaggle/input/nasa-asteroids-classification/Raw_Data_JSON/Raw_Data/file2000-03-08.json\n",
      "/kaggle/input/nasa-asteroids-classification/Raw_Data_JSON/Raw_Data/file2007-04-08.json\n",
      "/kaggle/input/nasa-asteroids-classification/Raw_Data_JSON/Raw_Data/file2007-02-08.json\n",
      "/kaggle/input/nasa-asteroids-classification/Raw_Data_JSON/Raw_Data/file2012-06-15.json\n",
      "/kaggle/input/nasa-asteroids-classification/Raw_Data_JSON/Raw_Data/file2007-08-08.json\n",
      "/kaggle/input/nasa-asteroids-classification/Raw_Data_JSON/Raw_Data/file2015-07-08.json\n",
      "/kaggle/input/nasa-asteroids-classification/Raw_Data_JSON/Raw_Data/file1999-05-15.json\n",
      "/kaggle/input/nasa-asteroids-classification/Raw_Data_JSON/Raw_Data/file2004-12-15.json\n",
      "/kaggle/input/nasa-asteroids-classification/Raw_Data_JSON/Raw_Data/file2014-12-22.json\n",
      "/kaggle/input/nasa-asteroids-classification/Raw_Data_JSON/Raw_Data/file1996-06-15.json\n",
      "/kaggle/input/nasa-asteroids-classification/Raw_Data_JSON/Raw_Data/file1998-06-08.json\n",
      "/kaggle/input/nasa-asteroids-classification/Raw_Data_JSON/Raw_Data/file2012-03-22.json\n",
      "/kaggle/input/nasa-asteroids-classification/Raw_Data_JSON/Raw_Data/file2000-09-22.json\n",
      "/kaggle/input/nasa-asteroids-classification/Raw_Data_JSON/Raw_Data/file2002-03-08.json\n",
      "/kaggle/input/nasa-asteroids-classification/Raw_Data_JSON/Raw_Data/file2012-07-08.json\n",
      "/kaggle/input/nasa-asteroids-classification/Raw_Data_JSON/Raw_Data/file2000-05-15.json\n",
      "/kaggle/input/nasa-asteroids-classification/Raw_Data_JSON/Raw_Data/file2010-03-22.json\n",
      "/kaggle/input/nasa-asteroids-classification/Raw_Data_JSON/Raw_Data/file2011-02-22.json\n",
      "/kaggle/input/nasa-asteroids-classification/Raw_Data_JSON/Raw_Data/file2013-07-15.json\n",
      "/kaggle/input/nasa-asteroids-classification/Raw_Data_JSON/Raw_Data/file2011-10-15.json\n",
      "/kaggle/input/nasa-asteroids-classification/Raw_Data_JSON/Raw_Data/file2015-12-08.json\n",
      "/kaggle/input/nasa-asteroids-classification/Raw_Data_JSON/Raw_Data/file2015-03-22.json\n",
      "/kaggle/input/nasa-asteroids-classification/Raw_Data_JSON/Raw_Data/file2001-08-15.json\n",
      "/kaggle/input/nasa-asteroids-classification/Raw_Data_JSON/Raw_Data/file2008-12-22.json\n",
      "/kaggle/input/nasa-asteroids-classification/Raw_Data_JSON/Raw_Data/file2009-05-15.json\n",
      "/kaggle/input/nasa-asteroids-classification/Raw_Data_JSON/Raw_Data/file1997-10-22.json\n",
      "/kaggle/input/nasa-asteroids-classification/Raw_Data_JSON/Raw_Data/file2005-07-08.json\n",
      "/kaggle/input/nasa-asteroids-classification/Raw_Data_JSON/Raw_Data/file1996-02-08.json\n",
      "/kaggle/input/nasa-asteroids-classification/Raw_Data_JSON/Raw_Data/file2005-06-15.json\n",
      "/kaggle/input/nasa-asteroids-classification/Raw_Data_JSON/Raw_Data/file2015-03-15.json\n",
      "/kaggle/input/nasa-asteroids-classification/Raw_Data_JSON/Raw_Data/file1998-10-15.json\n",
      "/kaggle/input/nasa-asteroids-classification/Raw_Data_JSON/Raw_Data/file2009-03-22.json\n",
      "/kaggle/input/nasa-asteroids-classification/Raw_Data_JSON/Raw_Data/file2014-07-08.json\n",
      "/kaggle/input/nasa-asteroids-classification/Raw_Data_JSON/Raw_Data/file2000-01-22.json\n",
      "/kaggle/input/nasa-asteroids-classification/Raw_Data_JSON/Raw_Data/file1995-05-08.json\n",
      "/kaggle/input/nasa-asteroids-classification/Raw_Data_JSON/Raw_Data/file2000-04-08.json\n",
      "/kaggle/input/nasa-asteroids-classification/Raw_Data_JSON/Raw_Data/file2001-04-15.json\n",
      "/kaggle/input/nasa-asteroids-classification/Raw_Data_JSON/Raw_Data/file2002-11-15.json\n",
      "/kaggle/input/nasa-asteroids-classification/Raw_Data_JSON/Raw_Data/file2014-10-08.json\n",
      "/kaggle/input/nasa-asteroids-classification/Raw_Data_JSON/Raw_Data/file1999-10-22.json\n",
      "/kaggle/input/nasa-asteroids-classification/Raw_Data_JSON/Raw_Data/file2013-08-15.json\n",
      "/kaggle/input/nasa-asteroids-classification/Raw_Data_JSON/Raw_Data/file1995-12-08.json\n",
      "/kaggle/input/nasa-asteroids-classification/Raw_Data_JSON/Raw_Data/file2007-05-22.json\n",
      "/kaggle/input/nasa-asteroids-classification/Raw_Data_JSON/Raw_Data/file2013-03-08.json\n",
      "/kaggle/input/nasa-asteroids-classification/Raw_Data_JSON/Raw_Data/file2006-09-22.json\n",
      "/kaggle/input/nasa-asteroids-classification/Raw_Data_JSON/Raw_Data/file2005-01-08.json\n",
      "/kaggle/input/nasa-asteroids-classification/Raw_Data_JSON/Raw_Data/file2003-04-22.json\n",
      "/kaggle/input/nasa-asteroids-classification/Raw_Data_JSON/Raw_Data/file2000-11-22.json\n",
      "/kaggle/input/nasa-asteroids-classification/Raw_Data_JSON/Raw_Data/file1998-02-08.json\n",
      "/kaggle/input/nasa-asteroids-classification/Raw_Data_JSON/Raw_Data/file2008-06-08.json\n",
      "/kaggle/input/nasa-asteroids-classification/Raw_Data_JSON/Raw_Data/file2009-09-08.json\n",
      "/kaggle/input/nasa-asteroids-classification/Raw_Data_JSON/Raw_Data/file2000-08-22.json\n",
      "/kaggle/input/nasa-asteroids-classification/Raw_Data_JSON/Raw_Data/file1998-09-15.json\n",
      "/kaggle/input/nasa-asteroids-classification/Raw_Data_JSON/Raw_Data/file1996-05-08.json\n",
      "/kaggle/input/nasa-asteroids-classification/Raw_Data_JSON/Raw_Data/file2007-07-08.json\n",
      "/kaggle/input/nasa-asteroids-classification/Raw_Data_JSON/Raw_Data/file2012-06-08.json\n",
      "/kaggle/input/nasa-asteroids-classification/Raw_Data_JSON/Raw_Data/file2013-08-08.json\n",
      "/kaggle/input/nasa-asteroids-classification/Raw_Data_JSON/Raw_Data/file1999-05-08.json\n",
      "/kaggle/input/nasa-asteroids-classification/Raw_Data_JSON/Raw_Data/file2015-12-15.json\n",
      "/kaggle/input/nasa-asteroids-classification/Raw_Data_JSON/Raw_Data/file2001-08-22.json\n",
      "/kaggle/input/nasa-asteroids-classification/Raw_Data_JSON/Raw_Data/file2006-01-15.json\n",
      "/kaggle/input/nasa-asteroids-classification/Raw_Data_JSON/Raw_Data/file2008-09-15.json\n",
      "/kaggle/input/nasa-asteroids-classification/Raw_Data_JSON/Raw_Data/file2009-05-08.json\n",
      "/kaggle/input/nasa-asteroids-classification/Raw_Data_JSON/Raw_Data/file1999-04-08.json\n",
      "/kaggle/input/nasa-asteroids-classification/Raw_Data_JSON/Raw_Data/file2009-12-15.json\n",
      "/kaggle/input/nasa-asteroids-classification/Raw_Data_JSON/Raw_Data/file2002-05-15.json\n",
      "/kaggle/input/nasa-asteroids-classification/Raw_Data_JSON/Raw_Data/file2001-11-08.json\n",
      "/kaggle/input/nasa-asteroids-classification/Raw_Data_JSON/Raw_Data/file2005-12-08.json\n",
      "/kaggle/input/nasa-asteroids-classification/Raw_Data_JSON/Raw_Data/file2009-02-22.json\n",
      "/kaggle/input/nasa-asteroids-classification/Raw_Data_JSON/Raw_Data/file2005-05-22.json\n",
      "/kaggle/input/nasa-asteroids-classification/Raw_Data_JSON/Raw_Data/file2012-01-22.json\n",
      "/kaggle/input/nasa-asteroids-classification/Raw_Data_JSON/Raw_Data/file1996-10-22.json\n",
      "/kaggle/input/nasa-asteroids-classification/Raw_Data_JSON/Raw_Data/file2012-11-15.json\n",
      "/kaggle/input/nasa-asteroids-classification/Raw_Data_JSON/Raw_Data/file1996-07-22.json\n",
      "/kaggle/input/nasa-asteroids-classification/Raw_Data_JSON/Raw_Data/file2004-12-22.json\n",
      "/kaggle/input/nasa-asteroids-classification/Raw_Data_JSON/Raw_Data/file2001-04-08.json\n",
      "/kaggle/input/nasa-asteroids-classification/Raw_Data_JSON/Raw_Data/file2012-02-22.json\n",
      "/kaggle/input/nasa-asteroids-classification/Raw_Data_JSON/Raw_Data/file1995-04-08.json\n",
      "/kaggle/input/nasa-asteroids-classification/Raw_Data_JSON/Raw_Data/file2014-12-08.json\n",
      "/kaggle/input/nasa-asteroids-classification/Raw_Data_JSON/Raw_Data/file1995-01-15.json\n",
      "/kaggle/input/nasa-asteroids-classification/Raw_Data_JSON/Raw_Data/file1996-04-08.json\n",
      "/kaggle/input/nasa-asteroids-classification/Raw_Data_JSON/Raw_Data/file2001-06-22.json\n",
      "/kaggle/input/nasa-asteroids-classification/Raw_Data_JSON/Raw_Data/file2015-10-22.json\n",
      "/kaggle/input/nasa-asteroids-classification/Raw_Data_JSON/Raw_Data/file2011-03-15.json\n",
      "/kaggle/input/nasa-asteroids-classification/Raw_Data_JSON/Raw_Data/file2014-11-15.json\n",
      "/kaggle/input/nasa-asteroids-classification/Raw_Data_JSON/Raw_Data/file2008-10-15.json\n",
      "/kaggle/input/nasa-asteroids-classification/Raw_Data_JSON/Raw_Data/file2004-07-15.json\n",
      "/kaggle/input/nasa-asteroids-classification/Raw_Data_JSON/Raw_Data/file2005-09-15.json\n",
      "/kaggle/input/nasa-asteroids-classification/Raw_Data_JSON/Raw_Data/file1998-04-08.json\n",
      "/kaggle/input/nasa-asteroids-classification/Raw_Data_JSON/Raw_Data/file2004-02-08.json\n",
      "/kaggle/input/nasa-asteroids-classification/Raw_Data_JSON/Raw_Data/file1995-10-08.json\n",
      "/kaggle/input/nasa-asteroids-classification/Raw_Data_JSON/Raw_Data/file2009-06-22.json\n",
      "/kaggle/input/nasa-asteroids-classification/Raw_Data_JSON/Raw_Data/file1995-05-15.json\n",
      "/kaggle/input/nasa-asteroids-classification/Raw_Data_JSON/Raw_Data/file2005-06-22.json\n",
      "/kaggle/input/nasa-asteroids-classification/Raw_Data_JSON/Raw_Data/file2004-01-22.json\n",
      "/kaggle/input/nasa-asteroids-classification/Raw_Data_JSON/Raw_Data/file2002-02-22.json\n",
      "/kaggle/input/nasa-asteroids-classification/Raw_Data_JSON/Raw_Data/file2002-09-22.json\n",
      "/kaggle/input/nasa-asteroids-classification/Raw_Data_JSON/Raw_Data/file2006-03-22.json\n",
      "/kaggle/input/nasa-asteroids-classification/Raw_Data_JSON/Raw_Data/file2011-06-22.json\n",
      "/kaggle/input/nasa-asteroids-classification/Raw_Data_JSON/Raw_Data/file2003-06-15.json\n",
      "/kaggle/input/nasa-asteroids-classification/Raw_Data_JSON/Raw_Data/file2001-09-08.json\n",
      "/kaggle/input/nasa-asteroids-classification/Raw_Data_JSON/Raw_Data/file2013-05-08.json\n",
      "/kaggle/input/nasa-asteroids-classification/Raw_Data_JSON/Raw_Data/file2008-08-15.json\n",
      "/kaggle/input/nasa-asteroids-classification/Raw_Data_JSON/Raw_Data/file1995-07-08.json\n",
      "/kaggle/input/nasa-asteroids-classification/Raw_Data_JSON/Raw_Data/file2009-04-15.json\n",
      "/kaggle/input/nasa-asteroids-classification/Raw_Data_JSON/Raw_Data/file2013-12-08.json\n",
      "/kaggle/input/nasa-asteroids-classification/Raw_Data_JSON/Raw_Data/file1999-06-15.json\n",
      "/kaggle/input/nasa-asteroids-classification/Raw_Data_JSON/Raw_Data/file2006-12-15.json\n",
      "/kaggle/input/nasa-asteroids-classification/Raw_Data_JSON/Raw_Data/file2010-03-08.json\n",
      "/kaggle/input/nasa-asteroids-classification/Raw_Data_JSON/Raw_Data/file1997-04-08.json\n",
      "/kaggle/input/nasa-asteroids-classification/Raw_Data_JSON/Raw_Data/file2010-10-08.json\n",
      "/kaggle/input/nasa-asteroids-classification/Raw_Data_JSON/Raw_Data/file2016-08-22.json\n",
      "/kaggle/input/nasa-asteroids-classification/Raw_Data_JSON/Raw_Data/file2013-09-15.json\n",
      "/kaggle/input/nasa-asteroids-classification/Raw_Data_JSON/Raw_Data/file2007-07-22.json\n",
      "/kaggle/input/nasa-asteroids-classification/Raw_Data_JSON/Raw_Data/file2012-04-08.json\n",
      "/kaggle/input/nasa-asteroids-classification/Raw_Data_JSON/Raw_Data/file2002-02-08.json\n",
      "/kaggle/input/nasa-asteroids-classification/Raw_Data_JSON/Raw_Data/file1997-01-15.json\n",
      "/kaggle/input/nasa-asteroids-classification/Raw_Data_JSON/Raw_Data/file2011-03-08.json\n",
      "/kaggle/input/nasa-asteroids-classification/Raw_Data_JSON/Raw_Data/file2006-12-08.json\n",
      "/kaggle/input/nasa-asteroids-classification/Raw_Data_JSON/Raw_Data/file2003-10-08.json\n",
      "/kaggle/input/nasa-asteroids-classification/Raw_Data_JSON/Raw_Data/file2008-04-15.json\n",
      "/kaggle/input/nasa-asteroids-classification/Raw_Data_JSON/Raw_Data/file2002-05-08.json\n",
      "/kaggle/input/nasa-asteroids-classification/Raw_Data_JSON/Raw_Data/file2016-06-15.json\n",
      "/kaggle/input/nasa-asteroids-classification/Raw_Data_JSON/Raw_Data/file2012-01-08.json\n",
      "/kaggle/input/nasa-asteroids-classification/Raw_Data_JSON/Raw_Data/file1999-01-22.json\n",
      "/kaggle/input/nasa-asteroids-classification/Raw_Data_JSON/Raw_Data/file1997-12-15.json\n",
      "/kaggle/input/nasa-asteroids-classification/Raw_Data_JSON/Raw_Data/file2007-10-22.json\n",
      "/kaggle/input/nasa-asteroids-classification/Raw_Data_JSON/Raw_Data/file1999-11-22.json\n",
      "/kaggle/input/nasa-asteroids-classification/Raw_Data_JSON/Raw_Data/file1997-06-22.json\n",
      "/kaggle/input/nasa-asteroids-classification/Raw_Data_JSON/Raw_Data/file2011-06-15.json\n",
      "/kaggle/input/nasa-asteroids-classification/Raw_Data_JSON/Raw_Data/file2012-05-22.json\n",
      "/kaggle/input/nasa-asteroids-classification/Raw_Data_JSON/Raw_Data/file2007-07-15.json\n",
      "/kaggle/input/nasa-asteroids-classification/Raw_Data_JSON/Raw_Data/file1997-11-08.json\n",
      "/kaggle/input/nasa-asteroids-classification/Raw_Data_JSON/Raw_Data/file2001-08-08.json\n",
      "/kaggle/input/nasa-asteroids-classification/Raw_Data_JSON/Raw_Data/file2008-11-15.json\n",
      "/kaggle/input/nasa-asteroids-classification/Raw_Data_JSON/Raw_Data/file1998-07-22.json\n",
      "/kaggle/input/nasa-asteroids-classification/Raw_Data_JSON/Raw_Data/file1996-10-15.json\n",
      "/kaggle/input/nasa-asteroids-classification/Raw_Data_JSON/Raw_Data/file2006-09-08.json\n",
      "/kaggle/input/nasa-asteroids-classification/Raw_Data_JSON/Raw_Data/file2007-01-22.json\n",
      "/kaggle/input/nasa-asteroids-classification/Raw_Data_JSON/Raw_Data/file2004-09-22.json\n",
      "/kaggle/input/nasa-asteroids-classification/Raw_Data_JSON/Raw_Data/file2011-05-22.json\n",
      "/kaggle/input/nasa-asteroids-classification/Raw_Data_JSON/Raw_Data/file2015-06-15.json\n",
      "/kaggle/input/nasa-asteroids-classification/Raw_Data_JSON/Raw_Data/file2002-12-15.json\n",
      "/kaggle/input/nasa-asteroids-classification/Raw_Data_JSON/Raw_Data/file1995-04-15.json\n",
      "/kaggle/input/nasa-asteroids-classification/Raw_Data_JSON/Raw_Data/file2003-02-08.json\n",
      "/kaggle/input/nasa-asteroids-classification/Raw_Data_JSON/Raw_Data/file2014-12-15.json\n",
      "/kaggle/input/nasa-asteroids-classification/Raw_Data_JSON/Raw_Data/file2001-02-15.json\n",
      "/kaggle/input/nasa-asteroids-classification/Raw_Data_JSON/Raw_Data/file2015-01-22.json\n",
      "/kaggle/input/nasa-asteroids-classification/Raw_Data_JSON/Raw_Data/file2002-06-22.json\n",
      "/kaggle/input/nasa-asteroids-classification/Raw_Data_JSON/Raw_Data/file2004-09-15.json\n",
      "/kaggle/input/nasa-asteroids-classification/Raw_Data_JSON/Raw_Data/file2009-07-08.json\n",
      "/kaggle/input/nasa-asteroids-classification/Raw_Data_JSON/Raw_Data/file2004-05-15.json\n",
      "/kaggle/input/nasa-asteroids-classification/Raw_Data_JSON/Raw_Data/file1998-06-15.json\n",
      "/kaggle/input/nasa-asteroids-classification/Raw_Data_JSON/Raw_Data/file2013-05-22.json\n",
      "/kaggle/input/nasa-asteroids-classification/Raw_Data_JSON/Raw_Data/file2011-02-15.json\n",
      "/kaggle/input/nasa-asteroids-classification/Raw_Data_JSON/Raw_Data/file2010-05-15.json\n",
      "/kaggle/input/nasa-asteroids-classification/Raw_Data_JSON/Raw_Data/file2010-09-22.json\n",
      "/kaggle/input/nasa-asteroids-classification/Raw_Data_JSON/Raw_Data/file2015-09-22.json\n",
      "/kaggle/input/nasa-asteroids-classification/Raw_Data_JSON/Raw_Data/file2004-05-22.json\n",
      "/kaggle/input/nasa-asteroids-classification/Raw_Data_JSON/Raw_Data/file2012-03-08.json\n",
      "/kaggle/input/nasa-asteroids-classification/Raw_Data_JSON/Raw_Data/file2013-01-22.json\n",
      "/kaggle/input/nasa-asteroids-classification/Raw_Data_JSON/Raw_Data/file2004-04-15.json\n",
      "/kaggle/input/nasa-asteroids-classification/Raw_Data_JSON/Raw_Data/file1998-03-15.json\n",
      "/kaggle/input/nasa-asteroids-classification/Raw_Data_JSON/Raw_Data/file2013-11-08.json\n",
      "/kaggle/input/nasa-asteroids-classification/Raw_Data_JSON/Raw_Data/file2006-08-08.json\n",
      "/kaggle/input/nasa-asteroids-classification/Raw_Data_JSON/Raw_Data/file2004-11-15.json\n",
      "/kaggle/input/nasa-asteroids-classification/Raw_Data_JSON/Raw_Data/file2000-03-22.json\n",
      "/kaggle/input/nasa-asteroids-classification/Raw_Data_JSON/Raw_Data/file2004-06-22.json\n",
      "/kaggle/input/nasa-asteroids-classification/Raw_Data_JSON/Raw_Data/file1995-01-08.json\n",
      "/kaggle/input/nasa-asteroids-classification/Raw_Data_JSON/Raw_Data/file2003-09-08.json\n",
      "/kaggle/input/nasa-asteroids-classification/Raw_Data_JSON/Raw_Data/file2001-07-22.json\n",
      "/kaggle/input/nasa-asteroids-classification/Raw_Data_JSON/Raw_Data/file2007-10-08.json\n",
      "/kaggle/input/nasa-asteroids-classification/Raw_Data_JSON/Raw_Data/file2010-05-22.json\n",
      "/kaggle/input/nasa-asteroids-classification/Raw_Data_JSON/Raw_Data/file2002-03-15.json\n",
      "/kaggle/input/nasa-asteroids-classification/Raw_Data_JSON/Raw_Data/file1997-03-22.json\n",
      "/kaggle/input/nasa-asteroids-classification/Raw_Data_JSON/Raw_Data/file2014-02-15.json\n",
      "/kaggle/input/nasa-asteroids-classification/Raw_Data_JSON/Raw_Data/file2008-04-08.json\n",
      "/kaggle/input/nasa-asteroids-classification/Raw_Data_JSON/Raw_Data/file2001-06-15.json\n",
      "/kaggle/input/nasa-asteroids-classification/Raw_Data_JSON/Raw_Data/.~lock.names.csv#\n",
      "/kaggle/input/nasa-asteroids-classification/Raw_Data_JSON/Raw_Data/file2004-06-15.json\n",
      "/kaggle/input/nasa-asteroids-classification/Raw_Data_JSON/Raw_Data/file2013-02-15.json\n",
      "/kaggle/input/nasa-asteroids-classification/Raw_Data_JSON/Raw_Data/file2012-04-15.json\n",
      "/kaggle/input/nasa-asteroids-classification/Raw_Data_JSON/Raw_Data/file2010-08-22.json\n",
      "/kaggle/input/nasa-asteroids-classification/Raw_Data_JSON/Raw_Data/file2008-10-22.json\n",
      "/kaggle/input/nasa-asteroids-classification/Raw_Data_JSON/Raw_Data/file2002-01-15.json\n",
      "/kaggle/input/nasa-asteroids-classification/Raw_Data_JSON/Raw_Data/file2012-11-08.json\n",
      "/kaggle/input/nasa-asteroids-classification/Raw_Data_JSON/Raw_Data/file2009-08-22.json\n",
      "/kaggle/input/nasa-asteroids-classification/Raw_Data_JSON/Raw_Data/file2000-03-15.json\n",
      "/kaggle/input/nasa-asteroids-classification/Raw_Data_JSON/Raw_Data/file2000-09-08.json\n",
      "/kaggle/input/nasa-asteroids-classification/Raw_Data_JSON/Raw_Data/file2008-11-08.json\n",
      "/kaggle/input/nasa-asteroids-classification/Raw_Data_JSON/Raw_Data/file1998-04-15.json\n",
      "/kaggle/input/nasa-asteroids-classification/Raw_Data_JSON/Raw_Data/file2006-01-22.json\n",
      "/kaggle/input/nasa-asteroids-classification/Raw_Data_JSON/Raw_Data/file2012-09-22.json\n",
      "/kaggle/input/nasa-asteroids-classification/Raw_Data_JSON/Raw_Data/file2008-02-08.json\n",
      "/kaggle/input/nasa-asteroids-classification/Raw_Data_JSON/Raw_Data/file2005-08-15.json\n",
      "/kaggle/input/nasa-asteroids-classification/Raw_Data_JSON/Raw_Data/file2013-03-22.json\n",
      "/kaggle/input/nasa-asteroids-classification/Raw_Data_JSON/Raw_Data/file2008-01-08.json\n",
      "/kaggle/input/nasa-asteroids-classification/Raw_Data_JSON/Raw_Data/file2016-07-22.json\n",
      "/kaggle/input/nasa-asteroids-classification/Raw_Data_JSON/Raw_Data/file2013-01-08.json\n",
      "/kaggle/input/nasa-asteroids-classification/Raw_Data_JSON/Raw_Data/file2005-02-22.json\n",
      "/kaggle/input/nasa-asteroids-classification/Raw_Data_JSON/Raw_Data/file2009-11-15.json\n",
      "/kaggle/input/nasa-asteroids-classification/Raw_Data_JSON/Raw_Data/file2010-02-22.json\n",
      "/kaggle/input/nasa-asteroids-classification/Raw_Data_JSON/Raw_Data/file1998-05-22.json\n",
      "/kaggle/input/nasa-asteroids-classification/Raw_Data_JSON/Raw_Data/file1996-12-15.json\n",
      "/kaggle/input/nasa-asteroids-classification/Raw_Data_JSON/Raw_Data/file2009-03-08.json\n",
      "/kaggle/input/nasa-asteroids-classification/Raw_Data_JSON/Raw_Data/file1995-11-08.json\n",
      "/kaggle/input/nasa-asteroids-classification/Raw_Data_JSON/Raw_Data/file1998-03-22.json\n",
      "/kaggle/input/nasa-asteroids-classification/Raw_Data_JSON/Raw_Data/file2003-01-15.json\n",
      "/kaggle/input/nasa-asteroids-classification/Raw_Data_JSON/Raw_Data/file1995-06-22.json\n",
      "/kaggle/input/nasa-asteroids-classification/Raw_Data_JSON/Raw_Data/file2013-07-22.json\n",
      "/kaggle/input/nasa-asteroids-classification/Raw_Data_JSON/Raw_Data/file2006-07-08.json\n",
      "/kaggle/input/nasa-asteroids-classification/Raw_Data_JSON/Raw_Data/file2014-04-15.json\n",
      "/kaggle/input/nasa-asteroids-classification/Raw_Data_JSON/Raw_Data/file2008-09-22.json\n",
      "/kaggle/input/nasa-asteroids-classification/Raw_Data_JSON/Raw_Data/file1999-06-22.json\n",
      "/kaggle/input/nasa-asteroids-classification/Raw_Data_JSON/Raw_Data/file2002-04-15.json\n",
      "/kaggle/input/nasa-asteroids-classification/Raw_Data_JSON/Raw_Data/file2012-12-08.json\n",
      "/kaggle/input/nasa-asteroids-classification/Raw_Data_JSON/Raw_Data/file1995-06-08.json\n",
      "/kaggle/input/nasa-asteroids-classification/Raw_Data_JSON/Raw_Data/file2011-08-15.json\n",
      "/kaggle/input/nasa-asteroids-classification/Raw_Data_JSON/Raw_Data/file2002-08-08.json\n",
      "/kaggle/input/nasa-asteroids-classification/Raw_Data_JSON/Raw_Data/file2013-11-22.json\n",
      "/kaggle/input/nasa-asteroids-classification/Raw_Data_JSON/Raw_Data/file2003-07-15.json\n",
      "/kaggle/input/nasa-asteroids-classification/Raw_Data_JSON/Raw_Data/file1997-04-22.json\n",
      "/kaggle/input/nasa-asteroids-classification/Raw_Data_JSON/Raw_Data/file2002-11-22.json\n",
      "/kaggle/input/nasa-asteroids-classification/Raw_Data_JSON/Raw_Data/file2014-10-15.json\n",
      "/kaggle/input/nasa-asteroids-classification/Raw_Data_JSON/Raw_Data/file2015-07-15.json\n",
      "/kaggle/input/nasa-asteroids-classification/Raw_Data_JSON/Raw_Data/file2010-06-08.json\n",
      "/kaggle/input/nasa-asteroids-classification/Raw_Data_JSON/Raw_Data/file2014-06-15.json\n",
      "/kaggle/input/nasa-asteroids-classification/Raw_Data_JSON/Raw_Data/file2005-04-08.json\n",
      "/kaggle/input/nasa-asteroids-classification/Raw_Data_JSON/Raw_Data/file1999-08-22.json\n",
      "/kaggle/input/nasa-asteroids-classification/Raw_Data_JSON/Raw_Data/file2003-02-15.json\n",
      "/kaggle/input/nasa-asteroids-classification/Raw_Data_JSON/Raw_Data/file2010-07-15.json\n",
      "/kaggle/input/nasa-asteroids-classification/Raw_Data_JSON/Raw_Data/file2012-05-08.json\n",
      "/kaggle/input/nasa-asteroids-classification/Raw_Data_JSON/Raw_Data/file2004-07-22.json\n",
      "/kaggle/input/nasa-asteroids-classification/Raw_Data_JSON/Raw_Data/file2015-08-22.json\n",
      "/kaggle/input/nasa-asteroids-classification/Raw_Data_JSON/Raw_Data/file1995-08-15.json\n",
      "/kaggle/input/nasa-asteroids-classification/Raw_Data_JSON/Raw_Data/file2008-07-15.json\n",
      "/kaggle/input/nasa-asteroids-classification/Raw_Data_JSON/Raw_Data/file2008-03-15.json\n",
      "/kaggle/input/nasa-asteroids-classification/Raw_Data_JSON/Raw_Data/file1998-07-15.json\n",
      "/kaggle/input/nasa-asteroids-classification/Raw_Data_JSON/Raw_Data/file2004-06-08.json\n",
      "/kaggle/input/nasa-asteroids-classification/Raw_Data_JSON/Raw_Data/file2002-10-22.json\n",
      "/kaggle/input/nasa-asteroids-classification/Raw_Data_JSON/Raw_Data/file2000-11-15.json\n",
      "/kaggle/input/nasa-asteroids-classification/Raw_Data_JSON/Raw_Data/file1999-11-08.json\n",
      "/kaggle/input/nasa-asteroids-classification/Raw_Data_JSON/Raw_Data/file1999-03-15.json\n",
      "/kaggle/input/nasa-asteroids-classification/Raw_Data_JSON/Raw_Data/file2002-10-15.json\n",
      "/kaggle/input/nasa-asteroids-classification/Raw_Data_JSON/Raw_Data/file1997-11-22.json\n",
      "/kaggle/input/nasa-asteroids-classification/Raw_Data_JSON/Raw_Data/file1997-12-08.json\n",
      "/kaggle/input/nasa-asteroids-classification/Raw_Data_JSON/Raw_Data/file2005-04-15.json\n",
      "/kaggle/input/nasa-asteroids-classification/Raw_Data_JSON/Raw_Data/file1996-06-22.json\n",
      "/kaggle/input/nasa-asteroids-classification/Raw_Data_JSON/Raw_Data/file1995-02-08.json\n",
      "/kaggle/input/nasa-asteroids-classification/Raw_Data_JSON/Raw_Data/file2014-09-22.json\n",
      "/kaggle/input/nasa-asteroids-classification/Raw_Data_JSON/Raw_Data/file2002-01-08.json\n",
      "/kaggle/input/nasa-asteroids-classification/Raw_Data_JSON/Raw_Data/file2000-10-22.json\n",
      "/kaggle/input/nasa-asteroids-classification/Raw_Data_JSON/Raw_Data/file2012-02-15.json\n",
      "/kaggle/input/nasa-asteroids-classification/Raw_Data_JSON/Raw_Data/file2014-07-22.json\n",
      "/kaggle/input/nasa-asteroids-classification/Raw_Data_JSON/Raw_Data/file2009-11-22.json\n",
      "/kaggle/input/nasa-asteroids-classification/Raw_Data_JSON/Raw_Data/file2003-10-15.json\n",
      "/kaggle/input/nasa-asteroids-classification/Raw_Data_JSON/Raw_Data/file2001-05-08.json\n",
      "/kaggle/input/nasa-asteroids-classification/Raw_Data_JSON/Raw_Data/file2007-12-08.json\n",
      "/kaggle/input/nasa-asteroids-classification/Raw_Data_JSON/Raw_Data/file2011-12-08.json\n",
      "/kaggle/input/nasa-asteroids-classification/Raw_Data_JSON/Raw_Data/file2008-06-15.json\n",
      "/kaggle/input/nasa-asteroids-classification/Raw_Data_JSON/Raw_Data/file2014-02-22.json\n",
      "/kaggle/input/nasa-asteroids-classification/Raw_Data_JSON/Raw_Data/file2010-12-15.json\n",
      "/kaggle/input/nasa-asteroids-classification/Raw_Data_JSON/Raw_Data/file2014-05-08.json\n",
      "/kaggle/input/nasa-asteroids-classification/Raw_Data_JSON/Raw_Data/file2000-01-08.json\n",
      "/kaggle/input/nasa-asteroids-classification/Raw_Data_JSON/Raw_Data/file2008-02-15.json\n",
      "/kaggle/input/nasa-asteroids-classification/Raw_Data_JSON/Raw_Data/file2005-01-15.json\n",
      "/kaggle/input/nasa-asteroids-classification/Raw_Data_JSON/Raw_Data/file1999-07-08.json\n",
      "/kaggle/input/nasa-asteroids-classification/Raw_Data_JSON/Raw_Data/file2014-05-22.json\n",
      "/kaggle/input/nasa-asteroids-classification/Raw_Data_JSON/Raw_Data/file2006-02-15.json\n",
      "/kaggle/input/nasa-asteroids-classification/Raw_Data_JSON/Raw_Data/file2011-05-08.json\n",
      "/kaggle/input/nasa-asteroids-classification/Raw_Data_JSON/Raw_Data/file2014-06-08.json\n",
      "/kaggle/input/nasa-asteroids-classification/Raw_Data_JSON/Raw_Data/file2000-04-22.json\n",
      "/kaggle/input/nasa-asteroids-classification/Raw_Data_JSON/Raw_Data/file2014-03-08.json\n",
      "/kaggle/input/nasa-asteroids-classification/Raw_Data_JSON/Raw_Data/file2016-05-08.json\n",
      "/kaggle/input/nasa-asteroids-classification/Raw_Data_JSON/Raw_Data/file1995-09-08.json\n",
      "/kaggle/input/nasa-asteroids-classification/Raw_Data_JSON/Raw_Data/file1997-06-08.json\n",
      "/kaggle/input/nasa-asteroids-classification/Raw_Data_JSON/Raw_Data/file1996-09-15.json\n",
      "/kaggle/input/nasa-asteroids-classification/Raw_Data_JSON/Raw_Data/file1998-04-22.json\n",
      "/kaggle/input/nasa-asteroids-classification/Raw_Data_JSON/Raw_Data/file2007-08-22.json\n",
      "/kaggle/input/nasa-asteroids-classification/Raw_Data_JSON/Raw_Data/file1995-11-22.json\n",
      "/kaggle/input/nasa-asteroids-classification/Raw_Data_JSON/Raw_Data/file1999-08-15.json\n",
      "/kaggle/input/nasa-asteroids-classification/Raw_Data_JSON/Raw_Data/file2001-09-22.json\n",
      "/kaggle/input/nasa-asteroids-classification/Raw_Data_JSON/Raw_Data/file2005-04-22.json\n",
      "/kaggle/input/nasa-asteroids-classification/Raw_Data_JSON/Raw_Data/file1995-09-22.json\n",
      "/kaggle/input/nasa-asteroids-classification/Raw_Data_JSON/Raw_Data/file1998-08-15.json\n",
      "/kaggle/input/nasa-asteroids-classification/Raw_Data_JSON/Raw_Data/file1999-08-08.json\n",
      "/kaggle/input/nasa-asteroids-classification/Raw_Data_JSON/Raw_Data/file1995-08-22.json\n",
      "/kaggle/input/nasa-asteroids-classification/Raw_Data_JSON/Raw_Data/file2001-07-08.json\n",
      "/kaggle/input/nasa-asteroids-classification/Raw_Data_JSON/Raw_Data/file2002-08-15.json\n",
      "/kaggle/input/nasa-asteroids-classification/Raw_Data_JSON/Raw_Data/file2015-01-15.json\n",
      "/kaggle/input/nasa-asteroids-classification/Raw_Data_JSON/Raw_Data/file2006-02-08.json\n",
      "/kaggle/input/nasa-asteroids-classification/Raw_Data_JSON/Raw_Data/file2007-06-15.json\n",
      "/kaggle/input/nasa-asteroids-classification/Raw_Data_JSON/Raw_Data/file2003-09-22.json\n",
      "/kaggle/input/nasa-asteroids-classification/Raw_Data_JSON/Raw_Data/file2014-04-22.json\n",
      "/kaggle/input/nasa-asteroids-classification/Raw_Data_JSON/Raw_Data/file1997-09-22.json\n",
      "/kaggle/input/nasa-asteroids-classification/Raw_Data_JSON/Raw_Data/file2013-10-22.json\n",
      "/kaggle/input/nasa-asteroids-classification/Raw_Data_JSON/Raw_Data/file2005-12-22.json\n",
      "/kaggle/input/nasa-asteroids-classification/Raw_Data_JSON/Raw_Data/file2016-05-15.json\n",
      "/kaggle/input/nasa-asteroids-classification/Raw_Data_JSON/Raw_Data/file2016-03-08.json\n",
      "/kaggle/input/nasa-asteroids-classification/Raw_Data_JSON/Raw_Data/file1995-06-15.json\n",
      "/kaggle/input/nasa-asteroids-classification/Raw_Data_JSON/Raw_Data/file2001-05-22.json\n",
      "/kaggle/input/nasa-asteroids-classification/Raw_Data_JSON/Raw_Data/file1995-10-15.json\n",
      "/kaggle/input/nasa-asteroids-classification/Raw_Data_JSON/Raw_Data/file2013-02-22.json\n",
      "/kaggle/input/nasa-asteroids-classification/Raw_Data_JSON/Raw_Data/file2004-03-22.json\n",
      "/kaggle/input/nasa-asteroids-classification/Raw_Data_JSON/Raw_Data/file2005-07-15.json\n",
      "/kaggle/input/nasa-asteroids-classification/Raw_Data_JSON/Raw_Data/file2014-11-08.json\n",
      "/kaggle/input/nasa-asteroids-classification/Raw_Data_JSON/Raw_Data/file2016-05-22.json\n",
      "/kaggle/input/nasa-asteroids-classification/Raw_Data_JSON/Raw_Data/file2007-12-15.json\n",
      "/kaggle/input/nasa-asteroids-classification/Raw_Data_JSON/Raw_Data/file1997-09-08.json\n",
      "/kaggle/input/nasa-asteroids-classification/Raw_Data_JSON/Raw_Data/file2008-05-08.json\n",
      "/kaggle/input/nasa-asteroids-classification/Raw_Data_JSON/Raw_Data/file2009-09-22.json\n",
      "/kaggle/input/nasa-asteroids-classification/Raw_Data_JSON/Raw_Data/file2010-04-08.json\n",
      "/kaggle/input/nasa-asteroids-classification/Raw_Data_JSON/Raw_Data/file2004-01-15.json\n",
      "/kaggle/input/nasa-asteroids-classification/Raw_Data_JSON/Raw_Data/file2001-10-22.json\n",
      "/kaggle/input/nasa-asteroids-classification/Raw_Data_JSON/Raw_Data/file1996-11-08.json\n",
      "/kaggle/input/nasa-asteroids-classification/Raw_Data_JSON/Raw_Data/file2001-04-22.json\n",
      "/kaggle/input/nasa-asteroids-classification/Raw_Data_JSON/Raw_Data/file2000-09-15.json\n",
      "/kaggle/input/nasa-asteroids-classification/Raw_Data_JSON/Raw_Data/file1997-05-15.json\n",
      "/kaggle/input/nasa-asteroids-classification/Raw_Data_JSON/Raw_Data/file2013-10-15.json\n",
      "/kaggle/input/nasa-asteroids-classification/Raw_Data_JSON/Raw_Data/file2014-07-15.json\n",
      "/kaggle/input/nasa-asteroids-classification/Raw_Data_JSON/Raw_Data/file2011-09-22.json\n",
      "/kaggle/input/nasa-asteroids-classification/Raw_Data_JSON/Raw_Data/file2001-02-08.json\n",
      "/kaggle/input/nasa-asteroids-classification/Raw_Data_JSON/Raw_Data/file1995-07-15.json\n",
      "/kaggle/input/nasa-asteroids-classification/Raw_Data_JSON/Raw_Data/file2010-11-15.json\n",
      "/kaggle/input/nasa-asteroids-classification/Raw_Data_JSON/Raw_Data/file2013-09-08.json\n",
      "/kaggle/input/nasa-asteroids-classification/Raw_Data_JSON/Raw_Data/file2004-09-08.json\n",
      "/kaggle/input/nasa-asteroids-classification/Raw_Data_JSON/Raw_Data/file2001-09-15.json\n",
      "/kaggle/input/nasa-asteroids-classification/Raw_Data_JSON/Raw_Data/file2006-09-15.json\n",
      "/kaggle/input/nasa-asteroids-classification/Raw_Data_JSON/Raw_Data/file2006-08-22.json\n",
      "/kaggle/input/nasa-asteroids-classification/Raw_Data_JSON/Raw_Data/file2010-06-15.json\n",
      "/kaggle/input/nasa-asteroids-classification/Raw_Data_JSON/Raw_Data/file2013-03-15.json\n",
      "/kaggle/input/nasa-asteroids-classification/Raw_Data_JSON/Raw_Data/file2005-02-15.json\n",
      "/kaggle/input/nasa-asteroids-classification/Raw_Data_JSON/Raw_Data/file1996-09-22.json\n",
      "/kaggle/input/nasa-asteroids-classification/Raw_Data_JSON/Raw_Data/file2006-10-15.json\n",
      "/kaggle/input/nasa-asteroids-classification/Raw_Data_JSON/Raw_Data/file1997-01-22.json\n",
      "/kaggle/input/nasa-asteroids-classification/Raw_Data_JSON/Raw_Data/file2000-01-15.json\n",
      "/kaggle/input/nasa-asteroids-classification/Raw_Data_JSON/Raw_Data/file2008-10-08.json\n",
      "/kaggle/input/nasa-asteroids-classification/Raw_Data_JSON/Raw_Data/file2015-05-22.json\n",
      "/kaggle/input/nasa-asteroids-classification/Raw_Data_JSON/Raw_Data/file2010-06-22.json\n",
      "/kaggle/input/nasa-asteroids-classification/Raw_Data_JSON/Raw_Data/file1998-03-08.json\n",
      "/kaggle/input/nasa-asteroids-classification/Raw_Data_JSON/Raw_Data/file2001-12-15.json\n",
      "/kaggle/input/nasa-asteroids-classification/Raw_Data_JSON/Raw_Data/file2016-07-15.json\n",
      "/kaggle/input/nasa-asteroids-classification/Raw_Data_JSON/Raw_Data/file2011-09-15.json\n",
      "/kaggle/input/nasa-asteroids-classification/Raw_Data_JSON/Raw_Data/file2006-10-22.json\n",
      "/kaggle/input/nasa-asteroids-classification/Raw_Data_JSON/Raw_Data/file1995-02-15.json\n",
      "/kaggle/input/nasa-asteroids-classification/Raw_Data_JSON/Raw_Data/file2010-01-08.json\n",
      "/kaggle/input/nasa-asteroids-classification/Raw_Data_JSON/Raw_Data/file2002-09-08.json\n",
      "/kaggle/input/nasa-asteroids-classification/Raw_Data_JSON/Raw_Data/file2014-03-15.json\n",
      "/kaggle/input/nasa-asteroids-classification/Raw_Data_JSON/Raw_Data/file2012-08-08.json\n",
      "/kaggle/input/nasa-asteroids-classification/Raw_Data_JSON/Raw_Data/file1998-12-08.json\n",
      "/kaggle/input/nasa-asteroids-classification/Raw_Data_JSON/Raw_Data/file2014-06-22.json\n",
      "/kaggle/input/nasa-asteroids-classification/Raw_Data_JSON/Raw_Data/file2016-02-22.json\n",
      "/kaggle/input/nasa-asteroids-classification/Raw_Data_JSON/Raw_Data/file2002-11-08.json\n",
      "/kaggle/input/nasa-asteroids-classification/Raw_Data_JSON/Raw_Data/file1998-12-15.json\n",
      "/kaggle/input/nasa-asteroids-classification/Raw_Data_JSON/Raw_Data/file2007-08-15.json\n",
      "/kaggle/input/nasa-asteroids-classification/Raw_Data_JSON/Raw_Data/file2012-10-22.json\n",
      "/kaggle/input/nasa-asteroids-classification/Raw_Data_JSON/Raw_Data/file1996-01-15.json\n",
      "/kaggle/input/nasa-asteroids-classification/Raw_Data_JSON/Raw_Data/file2013-07-08.json\n",
      "/kaggle/input/nasa-asteroids-classification/Raw_Data_JSON/Raw_Data/file2006-05-08.json\n",
      "/kaggle/input/nasa-asteroids-classification/Raw_Data_JSON/Raw_Data/file2016-01-22.json\n",
      "/kaggle/input/nasa-asteroids-classification/Raw_Data_JSON/Raw_Data/file2013-09-22.json\n",
      "/kaggle/input/nasa-asteroids-classification/Raw_Data_JSON/Raw_Data/file2004-02-22.json\n",
      "/kaggle/input/nasa-asteroids-classification/Raw_Data_JSON/Raw_Data/file2008-02-22.json\n",
      "/kaggle/input/nasa-asteroids-classification/Raw_Data_JSON/Raw_Data/file2011-11-15.json\n",
      "/kaggle/input/nasa-asteroids-classification/Raw_Data_JSON/Raw_Data/file2000-04-15.json\n",
      "/kaggle/input/nasa-asteroids-classification/Raw_Data_JSON/Raw_Data/file2013-08-22.json\n",
      "/kaggle/input/nasa-asteroids-classification/Raw_Data_JSON/Raw_Data/file2013-05-15.json\n",
      "/kaggle/input/nasa-asteroids-classification/Raw_Data_JSON/Raw_Data/file1997-02-22.json\n",
      "/kaggle/input/nasa-asteroids-classification/Raw_Data_JSON/Raw_Data/file2015-11-15.json\n",
      "/kaggle/input/nasa-asteroids-classification/Raw_Data_JSON/Raw_Data/file2015-04-15.json\n",
      "/kaggle/input/nasa-asteroids-classification/Raw_Data_JSON/Raw_Data/file2006-11-15.json\n",
      "/kaggle/input/nasa-asteroids-classification/Raw_Data_JSON/Raw_Data/file2011-04-15.json\n",
      "/kaggle/input/nasa-asteroids-classification/Raw_Data_JSON/Raw_Data/file1996-04-22.json\n",
      "/kaggle/input/nasa-asteroids-classification/Raw_Data_JSON/Raw_Data/file1999-04-22.json\n",
      "/kaggle/input/nasa-asteroids-classification/Raw_Data_JSON/Raw_Data/file1997-08-15.json\n",
      "/kaggle/input/nasa-asteroids-classification/Raw_Data_JSON/Raw_Data/file1998-01-15.json\n",
      "/kaggle/input/nasa-asteroids-classification/Raw_Data_JSON/Raw_Data/file2010-08-15.json\n",
      "/kaggle/input/nasa-asteroids-classification/Raw_Data_JSON/Raw_Data/file2003-08-15.json\n",
      "/kaggle/input/nasa-asteroids-classification/Raw_Data_JSON/Raw_Data/file2003-05-08.json\n",
      "/kaggle/input/nasa-asteroids-classification/Raw_Data_JSON/Raw_Data/file2005-06-08.json\n",
      "/kaggle/input/nasa-asteroids-classification/Raw_Data_JSON/Raw_Data/file1996-03-15.json\n",
      "/kaggle/input/nasa-asteroids-classification/Raw_Data_JSON/Raw_Data/file2004-04-08.json\n",
      "/kaggle/input/nasa-asteroids-classification/Raw_Data_JSON/Raw_Data/file2000-02-08.json\n",
      "/kaggle/input/nasa-asteroids-classification/Raw_Data_JSON/Raw_Data/file2001-03-22.json\n",
      "/kaggle/input/nasa-asteroids-classification/Raw_Data_JSON/Raw_Data/file1997-09-15.json\n",
      "/kaggle/input/nasa-asteroids-classification/Raw_Data_JSON/Raw_Data/file2003-04-15.json\n",
      "/kaggle/input/nasa-asteroids-classification/Raw_Data_JSON/Raw_Data/file2009-08-15.json\n",
      "/kaggle/input/nasa-asteroids-classification/Raw_Data_JSON/Raw_Data/file2003-02-22.json\n",
      "/kaggle/input/nasa-asteroids-classification/Raw_Data_JSON/Raw_Data/file2015-09-15.json\n",
      "/kaggle/input/nasa-asteroids-classification/Raw_Data_JSON/Raw_Data/file2006-05-22.json\n",
      "/kaggle/input/nasa-asteroids-classification/Raw_Data_JSON/Raw_Data/file2007-05-15.json\n",
      "/kaggle/input/nasa-asteroids-classification/Raw_Data_JSON/Raw_Data/file1998-08-08.json\n",
      "/kaggle/input/nasa-asteroids-classification/Raw_Data_JSON/Raw_Data/file1996-03-08.json\n",
      "/kaggle/input/nasa-asteroids-classification/Raw_Data_JSON/Raw_Data/file2004-01-08.json\n",
      "/kaggle/input/nasa-asteroids-classification/Raw_Data_JSON/Raw_Data/file2011-07-15.json\n",
      "/kaggle/input/nasa-asteroids-classification/Raw_Data_JSON/Raw_Data/file2008-07-22.json\n",
      "/kaggle/input/nasa-asteroids-classification/Raw_Data_JSON/Raw_Data/file1997-03-08.json\n",
      "/kaggle/input/nasa-asteroids-classification/Raw_Data_JSON/Raw_Data/file1997-05-22.json\n",
      "/kaggle/input/nasa-asteroids-classification/Raw_Data_JSON/Raw_Data/file2005-11-22.json\n",
      "/kaggle/input/nasa-asteroids-classification/Raw_Data_JSON/Raw_Data/file2010-11-08.json\n",
      "/kaggle/input/nasa-asteroids-classification/Raw_Data_JSON/Raw_Data/file2000-05-22.json\n",
      "/kaggle/input/nasa-asteroids-classification/Raw_Data_JSON/Raw_Data/file1998-06-22.json\n",
      "/kaggle/input/nasa-asteroids-classification/Raw_Data_JSON/Raw_Data/file1995-12-22.json\n",
      "/kaggle/input/nasa-asteroids-classification/Raw_Data_JSON/Raw_Data/file1998-09-08.json\n",
      "/kaggle/input/nasa-asteroids-classification/Raw_Data_JSON/Raw_Data/file2005-11-15.json\n",
      "/kaggle/input/nasa-asteroids-classification/Raw_Data_JSON/Raw_Data/file2010-01-15.json\n",
      "/kaggle/input/nasa-asteroids-classification/Raw_Data_JSON/Raw_Data/file2010-12-08.json\n",
      "/kaggle/input/nasa-asteroids-classification/Raw_Data_JSON/Raw_Data/file1996-11-22.json\n",
      "/kaggle/input/nasa-asteroids-classification/Raw_Data_JSON/Raw_Data/file1996-04-15.json\n",
      "/kaggle/input/nasa-asteroids-classification/Raw_Data_JSON/Raw_Data/file2000-02-22.json\n",
      "/kaggle/input/nasa-asteroids-classification/Raw_Data_JSON/Raw_Data/file2012-07-22.json\n",
      "/kaggle/input/nasa-asteroids-classification/Raw_Data_JSON/Raw_Data/file2007-03-08.json\n",
      "/kaggle/input/nasa-asteroids-classification/Raw_Data_JSON/Raw_Data/file2011-04-22.json\n"
     ]
    }
   ],
   "source": [
    "# This Python 3 environment comes with many helpful analytics libraries installed\n",
    "# It is defined by the kaggle/python Docker image: https://github.com/kaggle/docker-python\n",
    "# For example, here's several helpful packages to load\n",
    "\n",
    "import numpy as np # linear algebra\n",
    "import pandas as pd # data processing, CSV file I/O (e.g. pd.read_csv)\n",
    "\n",
    "# Input data files are available in the read-only \"../input/\" directory\n",
    "# For example, running this (by clicking run or pressing Shift+Enter) will list all files under the input directory\n",
    "\n",
    "import os\n",
    "for dirname, _, filenames in os.walk('/kaggle/input'):\n",
    "    for filename in filenames:\n",
    "        print(os.path.join(dirname, filename))\n",
    "\n",
    "# You can write up to 20GB to the current directory (/kaggle/working/) that gets preserved as output when you create a version using \"Save & Run All\" \n",
    "# You can also write temporary files to /kaggle/temp/, but they won't be saved outside of the current session"
   ]
  },
  {
   "cell_type": "markdown",
   "id": "89d5b1e5",
   "metadata": {
    "papermill": {
     "duration": 0.012869,
     "end_time": "2024-07-23T02:40:07.694239",
     "exception": false,
     "start_time": "2024-07-23T02:40:07.681370",
     "status": "completed"
    },
    "tags": []
   },
   "source": [
    "# importing essential packages"
   ]
  },
  {
   "cell_type": "code",
   "execution_count": 2,
   "id": "8f625473",
   "metadata": {
    "execution": {
     "iopub.execute_input": "2024-07-23T02:40:07.721994Z",
     "iopub.status.busy": "2024-07-23T02:40:07.721494Z",
     "iopub.status.idle": "2024-07-23T02:40:25.120591Z",
     "shell.execute_reply": "2024-07-23T02:40:25.119286Z"
    },
    "papermill": {
     "duration": 17.41577,
     "end_time": "2024-07-23T02:40:25.123262",
     "exception": false,
     "start_time": "2024-07-23T02:40:07.707492",
     "status": "completed"
    },
    "tags": []
   },
   "outputs": [
    {
     "name": "stderr",
     "output_type": "stream",
     "text": [
      "2024-07-23 02:40:12.555961: E external/local_xla/xla/stream_executor/cuda/cuda_dnn.cc:9261] Unable to register cuDNN factory: Attempting to register factory for plugin cuDNN when one has already been registered\n",
      "2024-07-23 02:40:12.556104: E external/local_xla/xla/stream_executor/cuda/cuda_fft.cc:607] Unable to register cuFFT factory: Attempting to register factory for plugin cuFFT when one has already been registered\n",
      "2024-07-23 02:40:12.734436: E external/local_xla/xla/stream_executor/cuda/cuda_blas.cc:1515] Unable to register cuBLAS factory: Attempting to register factory for plugin cuBLAS when one has already been registered\n"
     ]
    }
   ],
   "source": [
    "import warnings\n",
    "warnings.filterwarnings('ignore')\n",
    "\n",
    "import numpy as np\n",
    "import pandas as pd\n",
    "\n",
    "import matplotlib as mpl\n",
    "import matplotlib.pyplot as plt\n",
    "import seaborn as sns\n",
    "\n",
    "from sklearn.tree import DecisionTreeClassifier\n",
    "from sklearn.ensemble import RandomForestClassifier\n",
    "from sklearn.metrics import accuracy_score, classification_report, confusion_matrix, ConfusionMatrixDisplay\n",
    "\n",
    "import tensorflow as tf\n",
    "import tensorflow.keras as keras"
   ]
  },
  {
   "cell_type": "markdown",
   "id": "9557b787",
   "metadata": {
    "papermill": {
     "duration": 0.013422,
     "end_time": "2024-07-23T02:40:25.149623",
     "exception": false,
     "start_time": "2024-07-23T02:40:25.136201",
     "status": "completed"
    },
    "tags": []
   },
   "source": [
    "# loading the dataset"
   ]
  },
  {
   "cell_type": "code",
   "execution_count": 3,
   "id": "96e366f1",
   "metadata": {
    "execution": {
     "iopub.execute_input": "2024-07-23T02:40:25.177022Z",
     "iopub.status.busy": "2024-07-23T02:40:25.176352Z",
     "iopub.status.idle": "2024-07-23T02:40:25.296950Z",
     "shell.execute_reply": "2024-07-23T02:40:25.295674Z"
    },
    "papermill": {
     "duration": 0.137261,
     "end_time": "2024-07-23T02:40:25.299578",
     "exception": false,
     "start_time": "2024-07-23T02:40:25.162317",
     "status": "completed"
    },
    "tags": []
   },
   "outputs": [
    {
     "data": {
      "text/html": [
       "<div>\n",
       "<style scoped>\n",
       "    .dataframe tbody tr th:only-of-type {\n",
       "        vertical-align: middle;\n",
       "    }\n",
       "\n",
       "    .dataframe tbody tr th {\n",
       "        vertical-align: top;\n",
       "    }\n",
       "\n",
       "    .dataframe thead th {\n",
       "        text-align: right;\n",
       "    }\n",
       "</style>\n",
       "<table border=\"1\" class=\"dataframe\">\n",
       "  <thead>\n",
       "    <tr style=\"text-align: right;\">\n",
       "      <th></th>\n",
       "      <th>Neo Reference ID</th>\n",
       "      <th>Name</th>\n",
       "      <th>Absolute Magnitude</th>\n",
       "      <th>Est Dia in KM(min)</th>\n",
       "      <th>Est Dia in KM(max)</th>\n",
       "      <th>Est Dia in M(min)</th>\n",
       "      <th>Est Dia in M(max)</th>\n",
       "      <th>Est Dia in Miles(min)</th>\n",
       "      <th>Est Dia in Miles(max)</th>\n",
       "      <th>Est Dia in Feet(min)</th>\n",
       "      <th>...</th>\n",
       "      <th>Asc Node Longitude</th>\n",
       "      <th>Orbital Period</th>\n",
       "      <th>Perihelion Distance</th>\n",
       "      <th>Perihelion Arg</th>\n",
       "      <th>Aphelion Dist</th>\n",
       "      <th>Perihelion Time</th>\n",
       "      <th>Mean Anomaly</th>\n",
       "      <th>Mean Motion</th>\n",
       "      <th>Equinox</th>\n",
       "      <th>Hazardous</th>\n",
       "    </tr>\n",
       "  </thead>\n",
       "  <tbody>\n",
       "    <tr>\n",
       "      <th>0</th>\n",
       "      <td>3703080</td>\n",
       "      <td>3703080</td>\n",
       "      <td>21.6</td>\n",
       "      <td>0.127220</td>\n",
       "      <td>0.284472</td>\n",
       "      <td>127.219879</td>\n",
       "      <td>284.472297</td>\n",
       "      <td>0.079051</td>\n",
       "      <td>0.176763</td>\n",
       "      <td>417.388066</td>\n",
       "      <td>...</td>\n",
       "      <td>314.373913</td>\n",
       "      <td>609.599786</td>\n",
       "      <td>0.808259</td>\n",
       "      <td>57.257470</td>\n",
       "      <td>2.005764</td>\n",
       "      <td>2.458162e+06</td>\n",
       "      <td>264.837533</td>\n",
       "      <td>0.590551</td>\n",
       "      <td>J2000</td>\n",
       "      <td>True</td>\n",
       "    </tr>\n",
       "    <tr>\n",
       "      <th>1</th>\n",
       "      <td>3723955</td>\n",
       "      <td>3723955</td>\n",
       "      <td>21.3</td>\n",
       "      <td>0.146068</td>\n",
       "      <td>0.326618</td>\n",
       "      <td>146.067964</td>\n",
       "      <td>326.617897</td>\n",
       "      <td>0.090762</td>\n",
       "      <td>0.202951</td>\n",
       "      <td>479.225620</td>\n",
       "      <td>...</td>\n",
       "      <td>136.717242</td>\n",
       "      <td>425.869294</td>\n",
       "      <td>0.718200</td>\n",
       "      <td>313.091975</td>\n",
       "      <td>1.497352</td>\n",
       "      <td>2.457795e+06</td>\n",
       "      <td>173.741112</td>\n",
       "      <td>0.845330</td>\n",
       "      <td>J2000</td>\n",
       "      <td>False</td>\n",
       "    </tr>\n",
       "    <tr>\n",
       "      <th>2</th>\n",
       "      <td>2446862</td>\n",
       "      <td>2446862</td>\n",
       "      <td>20.3</td>\n",
       "      <td>0.231502</td>\n",
       "      <td>0.517654</td>\n",
       "      <td>231.502122</td>\n",
       "      <td>517.654482</td>\n",
       "      <td>0.143849</td>\n",
       "      <td>0.321655</td>\n",
       "      <td>759.521423</td>\n",
       "      <td>...</td>\n",
       "      <td>259.475979</td>\n",
       "      <td>643.580228</td>\n",
       "      <td>0.950791</td>\n",
       "      <td>248.415038</td>\n",
       "      <td>1.966857</td>\n",
       "      <td>2.458120e+06</td>\n",
       "      <td>292.893654</td>\n",
       "      <td>0.559371</td>\n",
       "      <td>J2000</td>\n",
       "      <td>True</td>\n",
       "    </tr>\n",
       "    <tr>\n",
       "      <th>3</th>\n",
       "      <td>3092506</td>\n",
       "      <td>3092506</td>\n",
       "      <td>27.4</td>\n",
       "      <td>0.008801</td>\n",
       "      <td>0.019681</td>\n",
       "      <td>8.801465</td>\n",
       "      <td>19.680675</td>\n",
       "      <td>0.005469</td>\n",
       "      <td>0.012229</td>\n",
       "      <td>28.876199</td>\n",
       "      <td>...</td>\n",
       "      <td>57.173266</td>\n",
       "      <td>514.082140</td>\n",
       "      <td>0.983902</td>\n",
       "      <td>18.707701</td>\n",
       "      <td>1.527904</td>\n",
       "      <td>2.457902e+06</td>\n",
       "      <td>68.741007</td>\n",
       "      <td>0.700277</td>\n",
       "      <td>J2000</td>\n",
       "      <td>False</td>\n",
       "    </tr>\n",
       "    <tr>\n",
       "      <th>4</th>\n",
       "      <td>3514799</td>\n",
       "      <td>3514799</td>\n",
       "      <td>21.6</td>\n",
       "      <td>0.127220</td>\n",
       "      <td>0.284472</td>\n",
       "      <td>127.219879</td>\n",
       "      <td>284.472297</td>\n",
       "      <td>0.079051</td>\n",
       "      <td>0.176763</td>\n",
       "      <td>417.388066</td>\n",
       "      <td>...</td>\n",
       "      <td>84.629307</td>\n",
       "      <td>495.597821</td>\n",
       "      <td>0.967687</td>\n",
       "      <td>158.263596</td>\n",
       "      <td>1.483543</td>\n",
       "      <td>2.457814e+06</td>\n",
       "      <td>135.142133</td>\n",
       "      <td>0.726395</td>\n",
       "      <td>J2000</td>\n",
       "      <td>True</td>\n",
       "    </tr>\n",
       "  </tbody>\n",
       "</table>\n",
       "<p>5 rows × 40 columns</p>\n",
       "</div>"
      ],
      "text/plain": [
       "   Neo Reference ID     Name  Absolute Magnitude  Est Dia in KM(min)  \\\n",
       "0           3703080  3703080                21.6            0.127220   \n",
       "1           3723955  3723955                21.3            0.146068   \n",
       "2           2446862  2446862                20.3            0.231502   \n",
       "3           3092506  3092506                27.4            0.008801   \n",
       "4           3514799  3514799                21.6            0.127220   \n",
       "\n",
       "   Est Dia in KM(max)  Est Dia in M(min)  Est Dia in M(max)  \\\n",
       "0            0.284472         127.219879         284.472297   \n",
       "1            0.326618         146.067964         326.617897   \n",
       "2            0.517654         231.502122         517.654482   \n",
       "3            0.019681           8.801465          19.680675   \n",
       "4            0.284472         127.219879         284.472297   \n",
       "\n",
       "   Est Dia in Miles(min)  Est Dia in Miles(max)  Est Dia in Feet(min)  ...  \\\n",
       "0               0.079051               0.176763            417.388066  ...   \n",
       "1               0.090762               0.202951            479.225620  ...   \n",
       "2               0.143849               0.321655            759.521423  ...   \n",
       "3               0.005469               0.012229             28.876199  ...   \n",
       "4               0.079051               0.176763            417.388066  ...   \n",
       "\n",
       "   Asc Node Longitude Orbital Period  Perihelion Distance  Perihelion Arg  \\\n",
       "0          314.373913     609.599786             0.808259       57.257470   \n",
       "1          136.717242     425.869294             0.718200      313.091975   \n",
       "2          259.475979     643.580228             0.950791      248.415038   \n",
       "3           57.173266     514.082140             0.983902       18.707701   \n",
       "4           84.629307     495.597821             0.967687      158.263596   \n",
       "\n",
       "   Aphelion Dist  Perihelion Time  Mean Anomaly  Mean Motion  Equinox  \\\n",
       "0       2.005764     2.458162e+06    264.837533     0.590551    J2000   \n",
       "1       1.497352     2.457795e+06    173.741112     0.845330    J2000   \n",
       "2       1.966857     2.458120e+06    292.893654     0.559371    J2000   \n",
       "3       1.527904     2.457902e+06     68.741007     0.700277    J2000   \n",
       "4       1.483543     2.457814e+06    135.142133     0.726395    J2000   \n",
       "\n",
       "   Hazardous  \n",
       "0       True  \n",
       "1      False  \n",
       "2       True  \n",
       "3      False  \n",
       "4       True  \n",
       "\n",
       "[5 rows x 40 columns]"
      ]
     },
     "execution_count": 3,
     "metadata": {},
     "output_type": "execute_result"
    }
   ],
   "source": [
    "data = pd.read_csv('/kaggle/input/nasa-asteroids-classification/nasa.csv')\n",
    "data.head()"
   ]
  },
  {
   "cell_type": "markdown",
   "id": "f04395c1",
   "metadata": {
    "papermill": {
     "duration": 0.014235,
     "end_time": "2024-07-23T02:40:25.327221",
     "exception": false,
     "start_time": "2024-07-23T02:40:25.312986",
     "status": "completed"
    },
    "tags": []
   },
   "source": [
    "displaying general information about the datasets "
   ]
  },
  {
   "cell_type": "code",
   "execution_count": 4,
   "id": "116fde7b",
   "metadata": {
    "execution": {
     "iopub.execute_input": "2024-07-23T02:40:25.358543Z",
     "iopub.status.busy": "2024-07-23T02:40:25.357820Z",
     "iopub.status.idle": "2024-07-23T02:40:25.385169Z",
     "shell.execute_reply": "2024-07-23T02:40:25.383991Z"
    },
    "papermill": {
     "duration": 0.046748,
     "end_time": "2024-07-23T02:40:25.387997",
     "exception": false,
     "start_time": "2024-07-23T02:40:25.341249",
     "status": "completed"
    },
    "tags": []
   },
   "outputs": [
    {
     "name": "stdout",
     "output_type": "stream",
     "text": [
      "<class 'pandas.core.frame.DataFrame'>\n",
      "RangeIndex: 4687 entries, 0 to 4686\n",
      "Data columns (total 40 columns):\n",
      " #   Column                        Non-Null Count  Dtype  \n",
      "---  ------                        --------------  -----  \n",
      " 0   Neo Reference ID              4687 non-null   int64  \n",
      " 1   Name                          4687 non-null   int64  \n",
      " 2   Absolute Magnitude            4687 non-null   float64\n",
      " 3   Est Dia in KM(min)            4687 non-null   float64\n",
      " 4   Est Dia in KM(max)            4687 non-null   float64\n",
      " 5   Est Dia in M(min)             4687 non-null   float64\n",
      " 6   Est Dia in M(max)             4687 non-null   float64\n",
      " 7   Est Dia in Miles(min)         4687 non-null   float64\n",
      " 8   Est Dia in Miles(max)         4687 non-null   float64\n",
      " 9   Est Dia in Feet(min)          4687 non-null   float64\n",
      " 10  Est Dia in Feet(max)          4687 non-null   float64\n",
      " 11  Close Approach Date           4687 non-null   object \n",
      " 12  Epoch Date Close Approach     4687 non-null   int64  \n",
      " 13  Relative Velocity km per sec  4687 non-null   float64\n",
      " 14  Relative Velocity km per hr   4687 non-null   float64\n",
      " 15  Miles per hour                4687 non-null   float64\n",
      " 16  Miss Dist.(Astronomical)      4687 non-null   float64\n",
      " 17  Miss Dist.(lunar)             4687 non-null   float64\n",
      " 18  Miss Dist.(kilometers)        4687 non-null   float64\n",
      " 19  Miss Dist.(miles)             4687 non-null   float64\n",
      " 20  Orbiting Body                 4687 non-null   object \n",
      " 21  Orbit ID                      4687 non-null   int64  \n",
      " 22  Orbit Determination Date      4687 non-null   object \n",
      " 23  Orbit Uncertainity            4687 non-null   int64  \n",
      " 24  Minimum Orbit Intersection    4687 non-null   float64\n",
      " 25  Jupiter Tisserand Invariant   4687 non-null   float64\n",
      " 26  Epoch Osculation              4687 non-null   float64\n",
      " 27  Eccentricity                  4687 non-null   float64\n",
      " 28  Semi Major Axis               4687 non-null   float64\n",
      " 29  Inclination                   4687 non-null   float64\n",
      " 30  Asc Node Longitude            4687 non-null   float64\n",
      " 31  Orbital Period                4687 non-null   float64\n",
      " 32  Perihelion Distance           4687 non-null   float64\n",
      " 33  Perihelion Arg                4687 non-null   float64\n",
      " 34  Aphelion Dist                 4687 non-null   float64\n",
      " 35  Perihelion Time               4687 non-null   float64\n",
      " 36  Mean Anomaly                  4687 non-null   float64\n",
      " 37  Mean Motion                   4687 non-null   float64\n",
      " 38  Equinox                       4687 non-null   object \n",
      " 39  Hazardous                     4687 non-null   bool   \n",
      "dtypes: bool(1), float64(30), int64(5), object(4)\n",
      "memory usage: 1.4+ MB\n"
     ]
    }
   ],
   "source": [
    "data.info()"
   ]
  },
  {
   "cell_type": "code",
   "execution_count": 5,
   "id": "74abe553",
   "metadata": {
    "execution": {
     "iopub.execute_input": "2024-07-23T02:40:25.417109Z",
     "iopub.status.busy": "2024-07-23T02:40:25.416703Z",
     "iopub.status.idle": "2024-07-23T02:40:25.424148Z",
     "shell.execute_reply": "2024-07-23T02:40:25.422801Z"
    },
    "papermill": {
     "duration": 0.0248,
     "end_time": "2024-07-23T02:40:25.426672",
     "exception": false,
     "start_time": "2024-07-23T02:40:25.401872",
     "status": "completed"
    },
    "tags": []
   },
   "outputs": [
    {
     "data": {
      "text/plain": [
       "(4687, 40)"
      ]
     },
     "execution_count": 5,
     "metadata": {},
     "output_type": "execute_result"
    }
   ],
   "source": [
    "data.shape"
   ]
  },
  {
   "cell_type": "code",
   "execution_count": null,
   "id": "1e475ae7",
   "metadata": {
    "papermill": {
     "duration": 0.013081,
     "end_time": "2024-07-23T02:40:25.453404",
     "exception": false,
     "start_time": "2024-07-23T02:40:25.440323",
     "status": "completed"
    },
    "tags": []
   },
   "outputs": [],
   "source": []
  },
  {
   "cell_type": "markdown",
   "id": "75f43a87",
   "metadata": {
    "papermill": {
     "duration": 0.014653,
     "end_time": "2024-07-23T02:40:25.482426",
     "exception": false,
     "start_time": "2024-07-23T02:40:25.467773",
     "status": "completed"
    },
    "tags": []
   },
   "source": [
    "# data manipulation"
   ]
  },
  {
   "cell_type": "markdown",
   "id": "c786ebbb",
   "metadata": {
    "papermill": {
     "duration": 0.013078,
     "end_time": "2024-07-23T02:40:25.509106",
     "exception": false,
     "start_time": "2024-07-23T02:40:25.496028",
     "status": "completed"
    },
    "tags": []
   },
   "source": [
    "checking for missing values"
   ]
  },
  {
   "cell_type": "code",
   "execution_count": 6,
   "id": "fc27ab4f",
   "metadata": {
    "execution": {
     "iopub.execute_input": "2024-07-23T02:40:25.538206Z",
     "iopub.status.busy": "2024-07-23T02:40:25.537337Z",
     "iopub.status.idle": "2024-07-23T02:40:25.548569Z",
     "shell.execute_reply": "2024-07-23T02:40:25.547338Z"
    },
    "papermill": {
     "duration": 0.028007,
     "end_time": "2024-07-23T02:40:25.550819",
     "exception": false,
     "start_time": "2024-07-23T02:40:25.522812",
     "status": "completed"
    },
    "tags": []
   },
   "outputs": [
    {
     "data": {
      "text/plain": [
       "Neo Reference ID                False\n",
       "Name                            False\n",
       "Absolute Magnitude              False\n",
       "Est Dia in KM(min)              False\n",
       "Est Dia in KM(max)              False\n",
       "Est Dia in M(min)               False\n",
       "Est Dia in M(max)               False\n",
       "Est Dia in Miles(min)           False\n",
       "Est Dia in Miles(max)           False\n",
       "Est Dia in Feet(min)            False\n",
       "Est Dia in Feet(max)            False\n",
       "Close Approach Date             False\n",
       "Epoch Date Close Approach       False\n",
       "Relative Velocity km per sec    False\n",
       "Relative Velocity km per hr     False\n",
       "Miles per hour                  False\n",
       "Miss Dist.(Astronomical)        False\n",
       "Miss Dist.(lunar)               False\n",
       "Miss Dist.(kilometers)          False\n",
       "Miss Dist.(miles)               False\n",
       "Orbiting Body                   False\n",
       "Orbit ID                        False\n",
       "Orbit Determination Date        False\n",
       "Orbit Uncertainity              False\n",
       "Minimum Orbit Intersection      False\n",
       "Jupiter Tisserand Invariant     False\n",
       "Epoch Osculation                False\n",
       "Eccentricity                    False\n",
       "Semi Major Axis                 False\n",
       "Inclination                     False\n",
       "Asc Node Longitude              False\n",
       "Orbital Period                  False\n",
       "Perihelion Distance             False\n",
       "Perihelion Arg                  False\n",
       "Aphelion Dist                   False\n",
       "Perihelion Time                 False\n",
       "Mean Anomaly                    False\n",
       "Mean Motion                     False\n",
       "Equinox                         False\n",
       "Hazardous                       False\n",
       "dtype: bool"
      ]
     },
     "execution_count": 6,
     "metadata": {},
     "output_type": "execute_result"
    }
   ],
   "source": [
    "data.isna().any()"
   ]
  },
  {
   "cell_type": "markdown",
   "id": "2541019f",
   "metadata": {
    "papermill": {
     "duration": 0.013136,
     "end_time": "2024-07-23T02:40:25.577568",
     "exception": false,
     "start_time": "2024-07-23T02:40:25.564432",
     "status": "completed"
    },
    "tags": []
   },
   "source": [
    "checking for duplicate values"
   ]
  },
  {
   "cell_type": "code",
   "execution_count": 7,
   "id": "4c2079ff",
   "metadata": {
    "execution": {
     "iopub.execute_input": "2024-07-23T02:40:25.606525Z",
     "iopub.status.busy": "2024-07-23T02:40:25.606157Z",
     "iopub.status.idle": "2024-07-23T02:40:25.627186Z",
     "shell.execute_reply": "2024-07-23T02:40:25.625875Z"
    },
    "papermill": {
     "duration": 0.038339,
     "end_time": "2024-07-23T02:40:25.629724",
     "exception": false,
     "start_time": "2024-07-23T02:40:25.591385",
     "status": "completed"
    },
    "tags": []
   },
   "outputs": [
    {
     "data": {
      "text/plain": [
       "False"
      ]
     },
     "execution_count": 7,
     "metadata": {},
     "output_type": "execute_result"
    }
   ],
   "source": [
    "data.duplicated().any()"
   ]
  },
  {
   "cell_type": "markdown",
   "id": "0a065e94",
   "metadata": {
    "papermill": {
     "duration": 0.01342,
     "end_time": "2024-07-23T02:40:25.656983",
     "exception": false,
     "start_time": "2024-07-23T02:40:25.643563",
     "status": "completed"
    },
    "tags": []
   },
   "source": [
    "column filtering"
   ]
  },
  {
   "cell_type": "code",
   "execution_count": 8,
   "id": "0efff93d",
   "metadata": {
    "execution": {
     "iopub.execute_input": "2024-07-23T02:40:25.687584Z",
     "iopub.status.busy": "2024-07-23T02:40:25.687214Z",
     "iopub.status.idle": "2024-07-23T02:40:25.693109Z",
     "shell.execute_reply": "2024-07-23T02:40:25.691863Z"
    },
    "papermill": {
     "duration": 0.024148,
     "end_time": "2024-07-23T02:40:25.695469",
     "exception": false,
     "start_time": "2024-07-23T02:40:25.671321",
     "status": "completed"
    },
    "tags": []
   },
   "outputs": [],
   "source": [
    "# as some columns in the dataset are same columns with different units\n",
    "# so i am retaining the columns with S.I units and deleting the other columns\n",
    "\n",
    "deletable_columns = ['Est Dia in KM(min)',\n",
    "                     'Est Dia in KM(max)', \n",
    "                     'Est Dia in Miles(min)', \n",
    "                     'Est Dia in Miles(max)',\n",
    "                     'Est Dia in Feet(min)',\n",
    "                     'Est Dia in Feet(max)',\n",
    "                     'Relative Velocity km per sec',\n",
    "                     'Miss Dist.(miles)',\n",
    "                     'Miss Dist.(Astronomical)',\n",
    "                     'Miss Dist.(lunar)',\n",
    "                     \n",
    "]\n"
   ]
  },
  {
   "cell_type": "code",
   "execution_count": 9,
   "id": "5f6ea671",
   "metadata": {
    "execution": {
     "iopub.execute_input": "2024-07-23T02:40:25.724665Z",
     "iopub.status.busy": "2024-07-23T02:40:25.724283Z",
     "iopub.status.idle": "2024-07-23T02:40:25.731626Z",
     "shell.execute_reply": "2024-07-23T02:40:25.730259Z"
    },
    "papermill": {
     "duration": 0.025012,
     "end_time": "2024-07-23T02:40:25.734336",
     "exception": false,
     "start_time": "2024-07-23T02:40:25.709324",
     "status": "completed"
    },
    "tags": []
   },
   "outputs": [],
   "source": [
    "data.drop(columns = deletable_columns, inplace = True)"
   ]
  },
  {
   "cell_type": "code",
   "execution_count": 10,
   "id": "17546e32",
   "metadata": {
    "execution": {
     "iopub.execute_input": "2024-07-23T02:40:25.763833Z",
     "iopub.status.busy": "2024-07-23T02:40:25.763405Z",
     "iopub.status.idle": "2024-07-23T02:40:25.778053Z",
     "shell.execute_reply": "2024-07-23T02:40:25.776504Z"
    },
    "papermill": {
     "duration": 0.032494,
     "end_time": "2024-07-23T02:40:25.780709",
     "exception": false,
     "start_time": "2024-07-23T02:40:25.748215",
     "status": "completed"
    },
    "tags": []
   },
   "outputs": [
    {
     "name": "stdout",
     "output_type": "stream",
     "text": [
      "<class 'pandas.core.frame.DataFrame'>\n",
      "RangeIndex: 4687 entries, 0 to 4686\n",
      "Data columns (total 30 columns):\n",
      " #   Column                       Non-Null Count  Dtype  \n",
      "---  ------                       --------------  -----  \n",
      " 0   Neo Reference ID             4687 non-null   int64  \n",
      " 1   Name                         4687 non-null   int64  \n",
      " 2   Absolute Magnitude           4687 non-null   float64\n",
      " 3   Est Dia in M(min)            4687 non-null   float64\n",
      " 4   Est Dia in M(max)            4687 non-null   float64\n",
      " 5   Close Approach Date          4687 non-null   object \n",
      " 6   Epoch Date Close Approach    4687 non-null   int64  \n",
      " 7   Relative Velocity km per hr  4687 non-null   float64\n",
      " 8   Miles per hour               4687 non-null   float64\n",
      " 9   Miss Dist.(kilometers)       4687 non-null   float64\n",
      " 10  Orbiting Body                4687 non-null   object \n",
      " 11  Orbit ID                     4687 non-null   int64  \n",
      " 12  Orbit Determination Date     4687 non-null   object \n",
      " 13  Orbit Uncertainity           4687 non-null   int64  \n",
      " 14  Minimum Orbit Intersection   4687 non-null   float64\n",
      " 15  Jupiter Tisserand Invariant  4687 non-null   float64\n",
      " 16  Epoch Osculation             4687 non-null   float64\n",
      " 17  Eccentricity                 4687 non-null   float64\n",
      " 18  Semi Major Axis              4687 non-null   float64\n",
      " 19  Inclination                  4687 non-null   float64\n",
      " 20  Asc Node Longitude           4687 non-null   float64\n",
      " 21  Orbital Period               4687 non-null   float64\n",
      " 22  Perihelion Distance          4687 non-null   float64\n",
      " 23  Perihelion Arg               4687 non-null   float64\n",
      " 24  Aphelion Dist                4687 non-null   float64\n",
      " 25  Perihelion Time              4687 non-null   float64\n",
      " 26  Mean Anomaly                 4687 non-null   float64\n",
      " 27  Mean Motion                  4687 non-null   float64\n",
      " 28  Equinox                      4687 non-null   object \n",
      " 29  Hazardous                    4687 non-null   bool   \n",
      "dtypes: bool(1), float64(20), int64(5), object(4)\n",
      "memory usage: 1.0+ MB\n"
     ]
    }
   ],
   "source": [
    "data.info()"
   ]
  },
  {
   "cell_type": "code",
   "execution_count": 11,
   "id": "540c20e6",
   "metadata": {
    "execution": {
     "iopub.execute_input": "2024-07-23T02:40:25.810730Z",
     "iopub.status.busy": "2024-07-23T02:40:25.810278Z",
     "iopub.status.idle": "2024-07-23T02:40:25.819602Z",
     "shell.execute_reply": "2024-07-23T02:40:25.818508Z"
    },
    "papermill": {
     "duration": 0.026806,
     "end_time": "2024-07-23T02:40:25.821952",
     "exception": false,
     "start_time": "2024-07-23T02:40:25.795146",
     "status": "completed"
    },
    "tags": []
   },
   "outputs": [
    {
     "data": {
      "text/plain": [
       "Equinox\n",
       "J2000    4687\n",
       "Name: count, dtype: int64"
      ]
     },
     "execution_count": 11,
     "metadata": {},
     "output_type": "execute_result"
    }
   ],
   "source": [
    "data.Equinox.value_counts()"
   ]
  },
  {
   "cell_type": "code",
   "execution_count": 12,
   "id": "28f83f35",
   "metadata": {
    "execution": {
     "iopub.execute_input": "2024-07-23T02:40:25.852586Z",
     "iopub.status.busy": "2024-07-23T02:40:25.851792Z",
     "iopub.status.idle": "2024-07-23T02:40:25.860851Z",
     "shell.execute_reply": "2024-07-23T02:40:25.859666Z"
    },
    "papermill": {
     "duration": 0.027026,
     "end_time": "2024-07-23T02:40:25.863234",
     "exception": false,
     "start_time": "2024-07-23T02:40:25.836208",
     "status": "completed"
    },
    "tags": []
   },
   "outputs": [
    {
     "data": {
      "text/plain": [
       "Orbiting Body\n",
       "Earth    4687\n",
       "Name: count, dtype: int64"
      ]
     },
     "execution_count": 12,
     "metadata": {},
     "output_type": "execute_result"
    }
   ],
   "source": [
    "data['Orbiting Body'].value_counts()"
   ]
  },
  {
   "cell_type": "markdown",
   "id": "217593b9",
   "metadata": {
    "papermill": {
     "duration": 0.013868,
     "end_time": "2024-07-23T02:40:25.891674",
     "exception": false,
     "start_time": "2024-07-23T02:40:25.877806",
     "status": "completed"
    },
    "tags": []
   },
   "source": [
    " as both the above columns are same for every instance, delete the above two colum"
   ]
  },
  {
   "cell_type": "code",
   "execution_count": 13,
   "id": "0430b70a",
   "metadata": {
    "execution": {
     "iopub.execute_input": "2024-07-23T02:40:25.922902Z",
     "iopub.status.busy": "2024-07-23T02:40:25.921759Z",
     "iopub.status.idle": "2024-07-23T02:40:25.929300Z",
     "shell.execute_reply": "2024-07-23T02:40:25.928085Z"
    },
    "papermill": {
     "duration": 0.025814,
     "end_time": "2024-07-23T02:40:25.932140",
     "exception": false,
     "start_time": "2024-07-23T02:40:25.906326",
     "status": "completed"
    },
    "tags": []
   },
   "outputs": [],
   "source": [
    "data.drop(columns = ['Orbiting Body', 'Equinox'], inplace = True)"
   ]
  },
  {
   "cell_type": "code",
   "execution_count": 14,
   "id": "9f2b0341",
   "metadata": {
    "execution": {
     "iopub.execute_input": "2024-07-23T02:40:26.024702Z",
     "iopub.status.busy": "2024-07-23T02:40:26.024308Z",
     "iopub.status.idle": "2024-07-23T02:40:26.038428Z",
     "shell.execute_reply": "2024-07-23T02:40:26.036996Z"
    },
    "papermill": {
     "duration": 0.033042,
     "end_time": "2024-07-23T02:40:26.041025",
     "exception": false,
     "start_time": "2024-07-23T02:40:26.007983",
     "status": "completed"
    },
    "tags": []
   },
   "outputs": [
    {
     "name": "stdout",
     "output_type": "stream",
     "text": [
      "<class 'pandas.core.frame.DataFrame'>\n",
      "RangeIndex: 4687 entries, 0 to 4686\n",
      "Data columns (total 28 columns):\n",
      " #   Column                       Non-Null Count  Dtype  \n",
      "---  ------                       --------------  -----  \n",
      " 0   Neo Reference ID             4687 non-null   int64  \n",
      " 1   Name                         4687 non-null   int64  \n",
      " 2   Absolute Magnitude           4687 non-null   float64\n",
      " 3   Est Dia in M(min)            4687 non-null   float64\n",
      " 4   Est Dia in M(max)            4687 non-null   float64\n",
      " 5   Close Approach Date          4687 non-null   object \n",
      " 6   Epoch Date Close Approach    4687 non-null   int64  \n",
      " 7   Relative Velocity km per hr  4687 non-null   float64\n",
      " 8   Miles per hour               4687 non-null   float64\n",
      " 9   Miss Dist.(kilometers)       4687 non-null   float64\n",
      " 10  Orbit ID                     4687 non-null   int64  \n",
      " 11  Orbit Determination Date     4687 non-null   object \n",
      " 12  Orbit Uncertainity           4687 non-null   int64  \n",
      " 13  Minimum Orbit Intersection   4687 non-null   float64\n",
      " 14  Jupiter Tisserand Invariant  4687 non-null   float64\n",
      " 15  Epoch Osculation             4687 non-null   float64\n",
      " 16  Eccentricity                 4687 non-null   float64\n",
      " 17  Semi Major Axis              4687 non-null   float64\n",
      " 18  Inclination                  4687 non-null   float64\n",
      " 19  Asc Node Longitude           4687 non-null   float64\n",
      " 20  Orbital Period               4687 non-null   float64\n",
      " 21  Perihelion Distance          4687 non-null   float64\n",
      " 22  Perihelion Arg               4687 non-null   float64\n",
      " 23  Aphelion Dist                4687 non-null   float64\n",
      " 24  Perihelion Time              4687 non-null   float64\n",
      " 25  Mean Anomaly                 4687 non-null   float64\n",
      " 26  Mean Motion                  4687 non-null   float64\n",
      " 27  Hazardous                    4687 non-null   bool   \n",
      "dtypes: bool(1), float64(20), int64(5), object(2)\n",
      "memory usage: 993.4+ KB\n"
     ]
    }
   ],
   "source": [
    "data.info()"
   ]
  },
  {
   "cell_type": "markdown",
   "id": "58bb8b68",
   "metadata": {
    "papermill": {
     "duration": 0.014523,
     "end_time": "2024-07-23T02:40:26.070047",
     "exception": false,
     "start_time": "2024-07-23T02:40:26.055524",
     "status": "completed"
    },
    "tags": []
   },
   "source": [
    "assumption : columns like 'neo reference id', 'name', 'orbitID', 'Close Approach Date', 'Orbit Determination Date' is not affecting the outcome"
   ]
  },
  {
   "cell_type": "code",
   "execution_count": 15,
   "id": "f1d78095",
   "metadata": {
    "execution": {
     "iopub.execute_input": "2024-07-23T02:40:26.101059Z",
     "iopub.status.busy": "2024-07-23T02:40:26.100636Z",
     "iopub.status.idle": "2024-07-23T02:40:26.116244Z",
     "shell.execute_reply": "2024-07-23T02:40:26.114882Z"
    },
    "papermill": {
     "duration": 0.034013,
     "end_time": "2024-07-23T02:40:26.119052",
     "exception": false,
     "start_time": "2024-07-23T02:40:26.085039",
     "status": "completed"
    },
    "tags": []
   },
   "outputs": [
    {
     "name": "stdout",
     "output_type": "stream",
     "text": [
      "<class 'pandas.core.frame.DataFrame'>\n",
      "RangeIndex: 4687 entries, 0 to 4686\n",
      "Data columns (total 23 columns):\n",
      " #   Column                       Non-Null Count  Dtype  \n",
      "---  ------                       --------------  -----  \n",
      " 0   Absolute Magnitude           4687 non-null   float64\n",
      " 1   Est Dia in M(min)            4687 non-null   float64\n",
      " 2   Est Dia in M(max)            4687 non-null   float64\n",
      " 3   Epoch Date Close Approach    4687 non-null   int64  \n",
      " 4   Relative Velocity km per hr  4687 non-null   float64\n",
      " 5   Miles per hour               4687 non-null   float64\n",
      " 6   Miss Dist.(kilometers)       4687 non-null   float64\n",
      " 7   Orbit Uncertainity           4687 non-null   int64  \n",
      " 8   Minimum Orbit Intersection   4687 non-null   float64\n",
      " 9   Jupiter Tisserand Invariant  4687 non-null   float64\n",
      " 10  Epoch Osculation             4687 non-null   float64\n",
      " 11  Eccentricity                 4687 non-null   float64\n",
      " 12  Semi Major Axis              4687 non-null   float64\n",
      " 13  Inclination                  4687 non-null   float64\n",
      " 14  Asc Node Longitude           4687 non-null   float64\n",
      " 15  Orbital Period               4687 non-null   float64\n",
      " 16  Perihelion Distance          4687 non-null   float64\n",
      " 17  Perihelion Arg               4687 non-null   float64\n",
      " 18  Aphelion Dist                4687 non-null   float64\n",
      " 19  Perihelion Time              4687 non-null   float64\n",
      " 20  Mean Anomaly                 4687 non-null   float64\n",
      " 21  Mean Motion                  4687 non-null   float64\n",
      " 22  Hazardous                    4687 non-null   bool   \n",
      "dtypes: bool(1), float64(20), int64(2)\n",
      "memory usage: 810.3 KB\n"
     ]
    }
   ],
   "source": [
    "data.drop(columns = ['Neo Reference ID', 'Name', 'Close Approach Date', 'Orbit Determination Date', 'Orbit ID'], inplace = True)\n",
    "data.info()"
   ]
  },
  {
   "cell_type": "markdown",
   "id": "a2394c08",
   "metadata": {
    "papermill": {
     "duration": 0.015211,
     "end_time": "2024-07-23T02:40:26.149136",
     "exception": false,
     "start_time": "2024-07-23T02:40:26.133925",
     "status": "completed"
    },
    "tags": []
   },
   "source": [
    "# working with labels"
   ]
  },
  {
   "cell_type": "code",
   "execution_count": 16,
   "id": "b47603c0",
   "metadata": {
    "execution": {
     "iopub.execute_input": "2024-07-23T02:40:26.182957Z",
     "iopub.status.busy": "2024-07-23T02:40:26.181935Z",
     "iopub.status.idle": "2024-07-23T02:40:26.503077Z",
     "shell.execute_reply": "2024-07-23T02:40:26.501806Z"
    },
    "papermill": {
     "duration": 0.339806,
     "end_time": "2024-07-23T02:40:26.505440",
     "exception": false,
     "start_time": "2024-07-23T02:40:26.165634",
     "status": "completed"
    },
    "tags": []
   },
   "outputs": [
    {
     "data": {
      "image/png": "[encoded data removed]",
      "text/plain": [
       "<Figure size 640x480 with 1 Axes>"
      ]
     },
     "metadata": {},
     "output_type": "display_data"
    }
   ],
   "source": [
    "label_counts = data['Hazardous'].value_counts()\n",
    "\n",
    "# Plot the bar chart\n",
    "label_counts.plot(kind='bar', color = 'purple')\n",
    "plt.xlabel('Labels')\n",
    "plt.ylabel('Frequency')\n",
    "plt.title('Frequency of Labels')\n",
    "plt.show()"
   ]
  },
  {
   "cell_type": "markdown",
   "id": "4fec1e8d",
   "metadata": {
    "papermill": {
     "duration": 0.014707,
     "end_time": "2024-07-23T02:40:26.535849",
     "exception": false,
     "start_time": "2024-07-23T02:40:26.521142",
     "status": "completed"
    },
    "tags": []
   },
   "source": [
    "transforming the labels "
   ]
  },
  {
   "cell_type": "code",
   "execution_count": 17,
   "id": "df11f6df",
   "metadata": {
    "execution": {
     "iopub.execute_input": "2024-07-23T02:40:26.569214Z",
     "iopub.status.busy": "2024-07-23T02:40:26.568799Z",
     "iopub.status.idle": "2024-07-23T02:40:26.582960Z",
     "shell.execute_reply": "2024-07-23T02:40:26.581785Z"
    },
    "papermill": {
     "duration": 0.033667,
     "end_time": "2024-07-23T02:40:26.585815",
     "exception": false,
     "start_time": "2024-07-23T02:40:26.552148",
     "status": "completed"
    },
    "tags": []
   },
   "outputs": [
    {
     "data": {
      "text/plain": [
       "0       1\n",
       "1       0\n",
       "2       1\n",
       "3       0\n",
       "4       1\n",
       "       ..\n",
       "4682    0\n",
       "4683    0\n",
       "4684    0\n",
       "4685    0\n",
       "4686    0\n",
       "Name: Hazardous, Length: 4687, dtype: int64"
      ]
     },
     "execution_count": 17,
     "metadata": {},
     "output_type": "execute_result"
    }
   ],
   "source": [
    "data['Hazardous'] = data['Hazardous'].apply(lambda x : 1 if x == True else 0)\n",
    "data['Hazardous']"
   ]
  },
  {
   "cell_type": "markdown",
   "id": "3b63f2e6",
   "metadata": {
    "papermill": {
     "duration": 0.015679,
     "end_time": "2024-07-23T02:40:26.616738",
     "exception": false,
     "start_time": "2024-07-23T02:40:26.601059",
     "status": "completed"
    },
    "tags": []
   },
   "source": [
    "# visualizing columns"
   ]
  },
  {
   "cell_type": "code",
   "execution_count": 18,
   "id": "db1d8307",
   "metadata": {
    "execution": {
     "iopub.execute_input": "2024-07-23T02:40:26.652063Z",
     "iopub.status.busy": "2024-07-23T02:40:26.651638Z",
     "iopub.status.idle": "2024-07-23T02:40:26.666386Z",
     "shell.execute_reply": "2024-07-23T02:40:26.664992Z"
    },
    "papermill": {
     "duration": 0.036493,
     "end_time": "2024-07-23T02:40:26.669232",
     "exception": false,
     "start_time": "2024-07-23T02:40:26.632739",
     "status": "completed"
    },
    "tags": []
   },
   "outputs": [
    {
     "name": "stdout",
     "output_type": "stream",
     "text": [
      "<class 'pandas.core.frame.DataFrame'>\n",
      "RangeIndex: 4687 entries, 0 to 4686\n",
      "Data columns (total 23 columns):\n",
      " #   Column                       Non-Null Count  Dtype  \n",
      "---  ------                       --------------  -----  \n",
      " 0   Absolute Magnitude           4687 non-null   float64\n",
      " 1   Est Dia in M(min)            4687 non-null   float64\n",
      " 2   Est Dia in M(max)            4687 non-null   float64\n",
      " 3   Epoch Date Close Approach    4687 non-null   int64  \n",
      " 4   Relative Velocity km per hr  4687 non-null   float64\n",
      " 5   Miles per hour               4687 non-null   float64\n",
      " 6   Miss Dist.(kilometers)       4687 non-null   float64\n",
      " 7   Orbit Uncertainity           4687 non-null   int64  \n",
      " 8   Minimum Orbit Intersection   4687 non-null   float64\n",
      " 9   Jupiter Tisserand Invariant  4687 non-null   float64\n",
      " 10  Epoch Osculation             4687 non-null   float64\n",
      " 11  Eccentricity                 4687 non-null   float64\n",
      " 12  Semi Major Axis              4687 non-null   float64\n",
      " 13  Inclination                  4687 non-null   float64\n",
      " 14  Asc Node Longitude           4687 non-null   float64\n",
      " 15  Orbital Period               4687 non-null   float64\n",
      " 16  Perihelion Distance          4687 non-null   float64\n",
      " 17  Perihelion Arg               4687 non-null   float64\n",
      " 18  Aphelion Dist                4687 non-null   float64\n",
      " 19  Perihelion Time              4687 non-null   float64\n",
      " 20  Mean Anomaly                 4687 non-null   float64\n",
      " 21  Mean Motion                  4687 non-null   float64\n",
      " 22  Hazardous                    4687 non-null   int64  \n",
      "dtypes: float64(20), int64(3)\n",
      "memory usage: 842.3 KB\n"
     ]
    }
   ],
   "source": [
    "data.info()"
   ]
  },
  {
   "cell_type": "code",
   "execution_count": 19,
   "id": "15d6d918",
   "metadata": {
    "execution": {
     "iopub.execute_input": "2024-07-23T02:40:26.702682Z",
     "iopub.status.busy": "2024-07-23T02:40:26.701758Z",
     "iopub.status.idle": "2024-07-23T02:40:27.032046Z",
     "shell.execute_reply": "2024-07-23T02:40:27.030790Z"
    },
    "papermill": {
     "duration": 0.349529,
     "end_time": "2024-07-23T02:40:27.034601",
     "exception": false,
     "start_time": "2024-07-23T02:40:26.685072",
     "status": "completed"
    },
    "tags": []
   },
   "outputs": [
    {
     "data": {
      "image/png": "[encoded data removed]",
      "text/plain": [
       "<Figure size 640x480 with 1 Axes>"
      ]
     },
     "metadata": {},
     "output_type": "display_data"
    }
   ],
   "source": [
    "sns.kdeplot(data = data,x =  'Absolute Magnitude', hue = 'Hazardous', fill = True)\n",
    "plt.show()"
   ]
  },
  {
   "cell_type": "code",
   "execution_count": 20,
   "id": "cdf36e93",
   "metadata": {
    "execution": {
     "iopub.execute_input": "2024-07-23T02:40:27.068298Z",
     "iopub.status.busy": "2024-07-23T02:40:27.067863Z",
     "iopub.status.idle": "2024-07-23T02:40:27.572072Z",
     "shell.execute_reply": "2024-07-23T02:40:27.570793Z"
    },
    "papermill": {
     "duration": 0.523949,
     "end_time": "2024-07-23T02:40:27.574550",
     "exception": false,
     "start_time": "2024-07-23T02:40:27.050601",
     "status": "completed"
    },
    "tags": []
   },
   "outputs": [
    {
     "data": {
      "image/png": "[encoded data removed]",
      "text/plain": [
       "<Figure size 1000x1000 with 2 Axes>"
      ]
     },
     "metadata": {},
     "output_type": "display_data"
    }
   ],
   "source": [
    "plt.figure(figsize = (10, 10))\n",
    "plt.subplot(1,2,1)\n",
    "sns.kdeplot(data = data,x =  'Est Dia in M(max)', hue = 'Hazardous', fill = True)\n",
    "plt.subplot(1,2,2)\n",
    "plt.boxplot(data['Est Dia in M(max)'])\n",
    "plt.show()\n"
   ]
  },
  {
   "cell_type": "code",
   "execution_count": 21,
   "id": "77255706",
   "metadata": {
    "execution": {
     "iopub.execute_input": "2024-07-23T02:40:27.609680Z",
     "iopub.status.busy": "2024-07-23T02:40:27.609254Z",
     "iopub.status.idle": "2024-07-23T02:40:27.939109Z",
     "shell.execute_reply": "2024-07-23T02:40:27.937715Z"
    },
    "papermill": {
     "duration": 0.350497,
     "end_time": "2024-07-23T02:40:27.941746",
     "exception": false,
     "start_time": "2024-07-23T02:40:27.591249",
     "status": "completed"
    },
    "tags": []
   },
   "outputs": [
    {
     "data": {
      "text/plain": [
       "<Axes: xlabel='Epoch Date Close Approach', ylabel='Density'>"
      ]
     },
     "execution_count": 21,
     "metadata": {},
     "output_type": "execute_result"
    },
    {
     "data": {
      "image/png": "[encoded data removed]",
      "text/plain": [
       "<Figure size 640x480 with 1 Axes>"
      ]
     },
     "metadata": {},
     "output_type": "display_data"
    }
   ],
   "source": [
    "sns.kdeplot(data = data, x = 'Epoch Date Close Approach', fill = True, color = 'purple')"
   ]
  },
  {
   "cell_type": "code",
   "execution_count": 22,
   "id": "eb0838c8",
   "metadata": {
    "execution": {
     "iopub.execute_input": "2024-07-23T02:40:27.978299Z",
     "iopub.status.busy": "2024-07-23T02:40:27.977872Z",
     "iopub.status.idle": "2024-07-23T02:40:28.313164Z",
     "shell.execute_reply": "2024-07-23T02:40:28.311845Z"
    },
    "papermill": {
     "duration": 0.357892,
     "end_time": "2024-07-23T02:40:28.316898",
     "exception": false,
     "start_time": "2024-07-23T02:40:27.959006",
     "status": "completed"
    },
    "tags": []
   },
   "outputs": [
    {
     "data": {
      "text/plain": [
       "<Axes: xlabel='Relative Velocity km per hr', ylabel='Density'>"
      ]
     },
     "execution_count": 22,
     "metadata": {},
     "output_type": "execute_result"
    },
    {
     "data": {
      "image/png": "[encoded data removed]",
      "text/plain": [
       "<Figure size 640x480 with 1 Axes>"
      ]
     },
     "metadata": {},
     "output_type": "display_data"
    }
   ],
   "source": [
    "sns.kdeplot(data = data, x = 'Relative Velocity km per hr', fill = True, color = 'purple')"
   ]
  },
  {
   "cell_type": "code",
   "execution_count": 23,
   "id": "c0e2aca6",
   "metadata": {
    "execution": {
     "iopub.execute_input": "2024-07-23T02:40:28.359757Z",
     "iopub.status.busy": "2024-07-23T02:40:28.359384Z",
     "iopub.status.idle": "2024-07-23T02:40:28.704777Z",
     "shell.execute_reply": "2024-07-23T02:40:28.703252Z"
    },
    "papermill": {
     "duration": 0.368091,
     "end_time": "2024-07-23T02:40:28.707748",
     "exception": false,
     "start_time": "2024-07-23T02:40:28.339657",
     "status": "completed"
    },
    "tags": []
   },
   "outputs": [
    {
     "data": {
      "text/plain": [
       "<Axes: xlabel='Miss Dist.(kilometers)', ylabel='Density'>"
      ]
     },
     "execution_count": 23,
     "metadata": {},
     "output_type": "execute_result"
    },
    {
     "data": {
      "image/png": "[encoded data removed]",
      "text/plain": [
       "<Figure size 640x480 with 1 Axes>"
      ]
     },
     "metadata": {},
     "output_type": "display_data"
    }
   ],
   "source": [
    "sns.kdeplot(data = data, x = 'Miss Dist.(kilometers)', fill = True, color = 'purple')"
   ]
  },
  {
   "cell_type": "code",
   "execution_count": 24,
   "id": "147ec985",
   "metadata": {
    "execution": {
     "iopub.execute_input": "2024-07-23T02:40:28.747802Z",
     "iopub.status.busy": "2024-07-23T02:40:28.746758Z",
     "iopub.status.idle": "2024-07-23T02:40:29.043201Z",
     "shell.execute_reply": "2024-07-23T02:40:29.041964Z"
    },
    "papermill": {
     "duration": 0.318969,
     "end_time": "2024-07-23T02:40:29.045706",
     "exception": false,
     "start_time": "2024-07-23T02:40:28.726737",
     "status": "completed"
    },
    "tags": []
   },
   "outputs": [
    {
     "data": {
      "text/plain": [
       "<Axes: xlabel='Orbit Uncertainity', ylabel='Density'>"
      ]
     },
     "execution_count": 24,
     "metadata": {},
     "output_type": "execute_result"
    },
    {
     "data": {
      "image/png": "[encoded data removed]",
      "text/plain": [
       "<Figure size 640x480 with 1 Axes>"
      ]
     },
     "metadata": {},
     "output_type": "display_data"
    }
   ],
   "source": [
    "sns.kdeplot(data = data, x = 'Orbit Uncertainity', fill = True, color = 'purple')"
   ]
  },
  {
   "cell_type": "code",
   "execution_count": 25,
   "id": "b135fec2",
   "metadata": {
    "execution": {
     "iopub.execute_input": "2024-07-23T02:40:29.086770Z",
     "iopub.status.busy": "2024-07-23T02:40:29.086371Z",
     "iopub.status.idle": "2024-07-23T02:40:29.400988Z",
     "shell.execute_reply": "2024-07-23T02:40:29.399719Z"
    },
    "papermill": {
     "duration": 0.338442,
     "end_time": "2024-07-23T02:40:29.403437",
     "exception": false,
     "start_time": "2024-07-23T02:40:29.064995",
     "status": "completed"
    },
    "tags": []
   },
   "outputs": [
    {
     "data": {
      "text/plain": [
       "<Axes: xlabel='Orbital Period', ylabel='Density'>"
      ]
     },
     "execution_count": 25,
     "metadata": {},
     "output_type": "execute_result"
    },
    {
     "data": {
      "image/png": "[encoded data removed]",
      "text/plain": [
       "<Figure size 640x480 with 1 Axes>"
      ]
     },
     "metadata": {},
     "output_type": "display_data"
    }
   ],
   "source": [
    "sns.kdeplot(data = data, x = 'Orbital Period', fill = True, color = 'purple')"
   ]
  },
  {
   "cell_type": "code",
   "execution_count": 26,
   "id": "2ca12075",
   "metadata": {
    "execution": {
     "iopub.execute_input": "2024-07-23T02:40:29.444823Z",
     "iopub.status.busy": "2024-07-23T02:40:29.444316Z",
     "iopub.status.idle": "2024-07-23T02:40:29.773882Z",
     "shell.execute_reply": "2024-07-23T02:40:29.772659Z"
    },
    "papermill": {
     "duration": 0.353298,
     "end_time": "2024-07-23T02:40:29.776633",
     "exception": false,
     "start_time": "2024-07-23T02:40:29.423335",
     "status": "completed"
    },
    "tags": []
   },
   "outputs": [
    {
     "data": {
      "text/plain": [
       "<Axes: xlabel='Jupiter Tisserand Invariant', ylabel='Density'>"
      ]
     },
     "execution_count": 26,
     "metadata": {},
     "output_type": "execute_result"
    },
    {
     "data": {
      "image/png": "[encoded data removed]",
      "text/plain": [
       "<Figure size 640x480 with 1 Axes>"
      ]
     },
     "metadata": {},
     "output_type": "display_data"
    }
   ],
   "source": [
    "sns.kdeplot(data = data, x = 'Jupiter Tisserand Invariant', fill = True, color = 'purple', hue = 'Hazardous')"
   ]
  },
  {
   "cell_type": "markdown",
   "id": "9bf0bf1f",
   "metadata": {
    "papermill": {
     "duration": 0.021504,
     "end_time": "2024-07-23T02:40:29.819710",
     "exception": false,
     "start_time": "2024-07-23T02:40:29.798206",
     "status": "completed"
    },
    "tags": []
   },
   "source": [
    " similarly we can plot the distributions of all other variables"
   ]
  },
  {
   "cell_type": "markdown",
   "id": "71d5772a",
   "metadata": {
    "papermill": {
     "duration": 0.020975,
     "end_time": "2024-07-23T02:40:29.862266",
     "exception": false,
     "start_time": "2024-07-23T02:40:29.841291",
     "status": "completed"
    },
    "tags": []
   },
   "source": [
    "# splitting the data"
   ]
  },
  {
   "cell_type": "code",
   "execution_count": 27,
   "id": "c6d034c1",
   "metadata": {
    "execution": {
     "iopub.execute_input": "2024-07-23T02:40:29.906385Z",
     "iopub.status.busy": "2024-07-23T02:40:29.906001Z",
     "iopub.status.idle": "2024-07-23T02:40:29.918554Z",
     "shell.execute_reply": "2024-07-23T02:40:29.917531Z"
    },
    "papermill": {
     "duration": 0.037206,
     "end_time": "2024-07-23T02:40:29.921328",
     "exception": false,
     "start_time": "2024-07-23T02:40:29.884122",
     "status": "completed"
    },
    "tags": []
   },
   "outputs": [],
   "source": [
    "from sklearn.model_selection import train_test_split\n",
    "train_data,test_data = train_test_split(data, test_size = 0.15, stratify = data['Hazardous'], shuffle = True, random_state = 42)"
   ]
  },
  {
   "cell_type": "code",
   "execution_count": 28,
   "id": "d582d163",
   "metadata": {
    "execution": {
     "iopub.execute_input": "2024-07-23T02:40:29.964815Z",
     "iopub.status.busy": "2024-07-23T02:40:29.963891Z",
     "iopub.status.idle": "2024-07-23T02:40:29.971100Z",
     "shell.execute_reply": "2024-07-23T02:40:29.969999Z"
    },
    "papermill": {
     "duration": 0.031418,
     "end_time": "2024-07-23T02:40:29.973494",
     "exception": false,
     "start_time": "2024-07-23T02:40:29.942076",
     "status": "completed"
    },
    "tags": []
   },
   "outputs": [
    {
     "data": {
      "text/plain": [
       "(3983, 23)"
      ]
     },
     "execution_count": 28,
     "metadata": {},
     "output_type": "execute_result"
    }
   ],
   "source": [
    "train_data.shape"
   ]
  },
  {
   "cell_type": "code",
   "execution_count": 29,
   "id": "91d33122",
   "metadata": {
    "execution": {
     "iopub.execute_input": "2024-07-23T02:40:30.017936Z",
     "iopub.status.busy": "2024-07-23T02:40:30.017039Z",
     "iopub.status.idle": "2024-07-23T02:40:30.024795Z",
     "shell.execute_reply": "2024-07-23T02:40:30.023505Z"
    },
    "papermill": {
     "duration": 0.032818,
     "end_time": "2024-07-23T02:40:30.027215",
     "exception": false,
     "start_time": "2024-07-23T02:40:29.994397",
     "status": "completed"
    },
    "tags": []
   },
   "outputs": [
    {
     "data": {
      "text/plain": [
       "(704, 23)"
      ]
     },
     "execution_count": 29,
     "metadata": {},
     "output_type": "execute_result"
    }
   ],
   "source": [
    "test_data.shape"
   ]
  },
  {
   "cell_type": "code",
   "execution_count": 30,
   "id": "0a8d4aad",
   "metadata": {
    "execution": {
     "iopub.execute_input": "2024-07-23T02:40:30.069999Z",
     "iopub.status.busy": "2024-07-23T02:40:30.069597Z",
     "iopub.status.idle": "2024-07-23T02:40:30.079124Z",
     "shell.execute_reply": "2024-07-23T02:40:30.077891Z"
    },
    "papermill": {
     "duration": 0.03375,
     "end_time": "2024-07-23T02:40:30.081548",
     "exception": false,
     "start_time": "2024-07-23T02:40:30.047798",
     "status": "completed"
    },
    "tags": []
   },
   "outputs": [
    {
     "data": {
      "text/plain": [
       "((3983, 22), (3983,))"
      ]
     },
     "execution_count": 30,
     "metadata": {},
     "output_type": "execute_result"
    }
   ],
   "source": [
    "X_train = train_data\n",
    "y_train = X_train['Hazardous']\n",
    "X_train.drop('Hazardous', axis = 1, inplace = True)\n",
    "(X_train.shape, y_train.shape)"
   ]
  },
  {
   "cell_type": "code",
   "execution_count": 31,
   "id": "1e999cf6",
   "metadata": {
    "execution": {
     "iopub.execute_input": "2024-07-23T02:40:30.126046Z",
     "iopub.status.busy": "2024-07-23T02:40:30.125615Z",
     "iopub.status.idle": "2024-07-23T02:40:30.135680Z",
     "shell.execute_reply": "2024-07-23T02:40:30.134300Z"
    },
    "papermill": {
     "duration": 0.035206,
     "end_time": "2024-07-23T02:40:30.138097",
     "exception": false,
     "start_time": "2024-07-23T02:40:30.102891",
     "status": "completed"
    },
    "tags": []
   },
   "outputs": [
    {
     "data": {
      "text/plain": [
       "((704, 22), (704,))"
      ]
     },
     "execution_count": 31,
     "metadata": {},
     "output_type": "execute_result"
    }
   ],
   "source": [
    "X_test = test_data\n",
    "y_test = X_test['Hazardous']\n",
    "X_test.drop('Hazardous', axis = 1, inplace = True)\n",
    "(X_test.shape, y_test.shape)"
   ]
  },
  {
   "cell_type": "markdown",
   "id": "293c512f",
   "metadata": {
    "papermill": {
     "duration": 0.022291,
     "end_time": "2024-07-23T02:40:30.183682",
     "exception": false,
     "start_time": "2024-07-23T02:40:30.161391",
     "status": "completed"
    },
    "tags": []
   },
   "source": [
    "# creating the models"
   ]
  },
  {
   "cell_type": "markdown",
   "id": "4a9f47a8",
   "metadata": {
    "papermill": {
     "duration": 0.021643,
     "end_time": "2024-07-23T02:40:30.228477",
     "exception": false,
     "start_time": "2024-07-23T02:40:30.206834",
     "status": "completed"
    },
    "tags": []
   },
   "source": [
    "### Decision Tree Classifier"
   ]
  },
  {
   "cell_type": "code",
   "execution_count": 32,
   "id": "1192187d",
   "metadata": {
    "execution": {
     "iopub.execute_input": "2024-07-23T02:40:30.275067Z",
     "iopub.status.busy": "2024-07-23T02:40:30.274210Z",
     "iopub.status.idle": "2024-07-23T02:40:30.314136Z",
     "shell.execute_reply": "2024-07-23T02:40:30.312755Z"
    },
    "papermill": {
     "duration": 0.066112,
     "end_time": "2024-07-23T02:40:30.316713",
     "exception": false,
     "start_time": "2024-07-23T02:40:30.250601",
     "status": "completed"
    },
    "tags": []
   },
   "outputs": [
    {
     "data": {
      "text/html": [
       "<style>#sk-container-id-1 {color: black;background-color: white;}#sk-container-id-1 pre{padding: 0;}#sk-container-id-1 div.sk-toggleable {background-color: white;}#sk-container-id-1 label.sk-toggleable__label {cursor: pointer;display: block;width: 100%;margin-bottom: 0;padding: 0.3em;box-sizing: border-box;text-align: center;}#sk-container-id-1 label.sk-toggleable__label-arrow:before {content: \"▸\";float: left;margin-right: 0.25em;color: #696969;}#sk-container-id-1 label.sk-toggleable__label-arrow:hover:before {color: black;}#sk-container-id-1 div.sk-estimator:hover label.sk-toggleable__label-arrow:before {color: black;}#sk-container-id-1 div.sk-toggleable__content {max-height: 0;max-width: 0;overflow: hidden;text-align: left;background-color: #f0f8ff;}#sk-container-id-1 div.sk-toggleable__content pre {margin: 0.2em;color: black;border-radius: 0.25em;background-color: #f0f8ff;}#sk-container-id-1 input.sk-toggleable__control:checked~div.sk-toggleable__content {max-height: 200px;max-width: 100%;overflow: auto;}#sk-container-id-1 input.sk-toggleable__control:checked~label.sk-toggleable__label-arrow:before {content: \"▾\";}#sk-container-id-1 div.sk-estimator input.sk-toggleable__control:checked~label.sk-toggleable__label {background-color: #d4ebff;}#sk-container-id-1 div.sk-label input.sk-toggleable__control:checked~label.sk-toggleable__label {background-color: #d4ebff;}#sk-container-id-1 input.sk-hidden--visually {border: 0;clip: rect(1px 1px 1px 1px);clip: rect(1px, 1px, 1px, 1px);height: 1px;margin: -1px;overflow: hidden;padding: 0;position: absolute;width: 1px;}#sk-container-id-1 div.sk-estimator {font-family: monospace;background-color: #f0f8ff;border: 1px dotted black;border-radius: 0.25em;box-sizing: border-box;margin-bottom: 0.5em;}#sk-container-id-1 div.sk-estimator:hover {background-color: #d4ebff;}#sk-container-id-1 div.sk-parallel-item::after {content: \"\";width: 100%;border-bottom: 1px solid gray;flex-grow: 1;}#sk-container-id-1 div.sk-label:hover label.sk-toggleable__label {background-color: #d4ebff;}#sk-container-id-1 div.sk-serial::before {content: \"\";position: absolute;border-left: 1px solid gray;box-sizing: border-box;top: 0;bottom: 0;left: 50%;z-index: 0;}#sk-container-id-1 div.sk-serial {display: flex;flex-direction: column;align-items: center;background-color: white;padding-right: 0.2em;padding-left: 0.2em;position: relative;}#sk-container-id-1 div.sk-item {position: relative;z-index: 1;}#sk-container-id-1 div.sk-parallel {display: flex;align-items: stretch;justify-content: center;background-color: white;position: relative;}#sk-container-id-1 div.sk-item::before, #sk-container-id-1 div.sk-parallel-item::before {content: \"\";position: absolute;border-left: 1px solid gray;box-sizing: border-box;top: 0;bottom: 0;left: 50%;z-index: -1;}#sk-container-id-1 div.sk-parallel-item {display: flex;flex-direction: column;z-index: 1;position: relative;background-color: white;}#sk-container-id-1 div.sk-parallel-item:first-child::after {align-self: flex-end;width: 50%;}#sk-container-id-1 div.sk-parallel-item:last-child::after {align-self: flex-start;width: 50%;}#sk-container-id-1 div.sk-parallel-item:only-child::after {width: 0;}#sk-container-id-1 div.sk-dashed-wrapped {border: 1px dashed gray;margin: 0 0.4em 0.5em 0.4em;box-sizing: border-box;padding-bottom: 0.4em;background-color: white;}#sk-container-id-1 div.sk-label label {font-family: monospace;font-weight: bold;display: inline-block;line-height: 1.2em;}#sk-container-id-1 div.sk-label-container {text-align: center;}#sk-container-id-1 div.sk-container {/* jupyter's `normalize.less` sets `[hidden] { display: none; }` but bootstrap.min.css set `[hidden] { display: none !important; }` so we also need the `!important` here to be able to override the default hidden behavior on the sphinx rendered scikit-learn.org. See: https://github.com/scikit-learn/scikit-learn/issues/21755 */display: inline-block !important;position: relative;}#sk-container-id-1 div.sk-text-repr-fallback {display: none;}</style><div id=\"sk-container-id-1\" class=\"sk-top-container\"><div class=\"sk-text-repr-fallback\"><pre>DecisionTreeClassifier(max_depth=10)</pre><b>In a Jupyter environment, please rerun this cell to show the HTML representation or trust the notebook. <br />On GitHub, the HTML representation is unable to render, please try loading this page with nbviewer.org.</b></div><div class=\"sk-container\" hidden><div class=\"sk-item\"><div class=\"sk-estimator sk-toggleable\"><input class=\"sk-toggleable__control sk-hidden--visually\" id=\"sk-estimator-id-1\" type=\"checkbox\" checked><label for=\"sk-estimator-id-1\" class=\"sk-toggleable__label sk-toggleable__label-arrow\">DecisionTreeClassifier</label><div class=\"sk-toggleable__content\"><pre>DecisionTreeClassifier(max_depth=10)</pre></div></div></div></div></div>"
      ],
      "text/plain": [
       "DecisionTreeClassifier(max_depth=10)"
      ]
     },
     "execution_count": 32,
     "metadata": {},
     "output_type": "execute_result"
    }
   ],
   "source": [
    "decision_clf = DecisionTreeClassifier(max_depth = 10)\n",
    "decision_clf.fit(X_train, y_train)"
   ]
  },
  {
   "cell_type": "code",
   "execution_count": 33,
   "id": "6f6ae080",
   "metadata": {
    "execution": {
     "iopub.execute_input": "2024-07-23T02:40:30.371053Z",
     "iopub.status.busy": "2024-07-23T02:40:30.370673Z",
     "iopub.status.idle": "2024-07-23T02:40:30.389115Z",
     "shell.execute_reply": "2024-07-23T02:40:30.387792Z"
    },
    "papermill": {
     "duration": 0.044844,
     "end_time": "2024-07-23T02:40:30.391822",
     "exception": false,
     "start_time": "2024-07-23T02:40:30.346978",
     "status": "completed"
    },
    "tags": []
   },
   "outputs": [
    {
     "name": "stdout",
     "output_type": "stream",
     "text": [
      "              precision    recall  f1-score   support\n",
      "\n",
      "           0       0.99      1.00      1.00       591\n",
      "           1       0.99      0.96      0.98       113\n",
      "\n",
      "    accuracy                           0.99       704\n",
      "   macro avg       0.99      0.98      0.99       704\n",
      "weighted avg       0.99      0.99      0.99       704\n",
      "\n"
     ]
    }
   ],
   "source": [
    "print(classification_report(y_test, decision_clf.predict(X_test)))"
   ]
  },
  {
   "cell_type": "code",
   "execution_count": 34,
   "id": "44bb2b02",
   "metadata": {
    "execution": {
     "iopub.execute_input": "2024-07-23T02:40:30.437218Z",
     "iopub.status.busy": "2024-07-23T02:40:30.436797Z",
     "iopub.status.idle": "2024-07-23T02:40:30.447145Z",
     "shell.execute_reply": "2024-07-23T02:40:30.445836Z"
    },
    "papermill": {
     "duration": 0.03656,
     "end_time": "2024-07-23T02:40:30.449816",
     "exception": false,
     "start_time": "2024-07-23T02:40:30.413256",
     "status": "completed"
    },
    "tags": []
   },
   "outputs": [],
   "source": [
    "cm = confusion_matrix(y_test, decision_clf.predict(X_test))"
   ]
  },
  {
   "cell_type": "code",
   "execution_count": 35,
   "id": "09d1bd52",
   "metadata": {
    "execution": {
     "iopub.execute_input": "2024-07-23T02:40:30.497526Z",
     "iopub.status.busy": "2024-07-23T02:40:30.496461Z",
     "iopub.status.idle": "2024-07-23T02:40:30.722071Z",
     "shell.execute_reply": "2024-07-23T02:40:30.720616Z"
    },
    "papermill": {
     "duration": 0.252244,
     "end_time": "2024-07-23T02:40:30.724796",
     "exception": false,
     "start_time": "2024-07-23T02:40:30.472552",
     "status": "completed"
    },
    "tags": []
   },
   "outputs": [
    {
     "data": {
      "image/png": "[encoded data removed]",
      "text/plain": [
       "<Figure size 640x480 with 2 Axes>"
      ]
     },
     "metadata": {},
     "output_type": "display_data"
    }
   ],
   "source": [
    "disp = ConfusionMatrixDisplay(confusion_matrix=cm, display_labels=decision_clf.classes_)\n",
    "disp.plot(cmap='Blues', values_format='.0f')\n",
    "plt.title('Confusion Matrix')\n",
    "plt.show()\n"
   ]
  },
  {
   "cell_type": "code",
   "execution_count": 36,
   "id": "11d80f0c",
   "metadata": {
    "execution": {
     "iopub.execute_input": "2024-07-23T02:40:30.770757Z",
     "iopub.status.busy": "2024-07-23T02:40:30.770342Z",
     "iopub.status.idle": "2024-07-23T02:40:30.780374Z",
     "shell.execute_reply": "2024-07-23T02:40:30.779087Z"
    },
    "papermill": {
     "duration": 0.035869,
     "end_time": "2024-07-23T02:40:30.782884",
     "exception": false,
     "start_time": "2024-07-23T02:40:30.747015",
     "status": "completed"
    },
    "tags": []
   },
   "outputs": [
    {
     "data": {
      "text/plain": [
       "Est Dia in M(max)              0.797631\n",
       "Minimum Orbit Intersection     0.183205\n",
       "Orbit Uncertainity             0.003619\n",
       "Perihelion Distance            0.003094\n",
       "Inclination                    0.002971\n",
       "Semi Major Axis                0.002936\n",
       "Miss Dist.(kilometers)         0.002889\n",
       "Epoch Date Close Approach      0.001801\n",
       "Aphelion Dist                  0.001724\n",
       "Absolute Magnitude             0.000130\n",
       "Orbital Period                 0.000000\n",
       "Mean Anomaly                   0.000000\n",
       "Perihelion Time                0.000000\n",
       "Perihelion Arg                 0.000000\n",
       "Eccentricity                   0.000000\n",
       "Asc Node Longitude             0.000000\n",
       "Est Dia in M(min)              0.000000\n",
       "Epoch Osculation               0.000000\n",
       "Jupiter Tisserand Invariant    0.000000\n",
       "Miles per hour                 0.000000\n",
       "Relative Velocity km per hr    0.000000\n",
       "Mean Motion                    0.000000\n",
       "dtype: float64"
      ]
     },
     "execution_count": 36,
     "metadata": {},
     "output_type": "execute_result"
    }
   ],
   "source": [
    "pd.Series(decision_clf.feature_importances_, index = X_train.columns).sort_values(ascending = False)"
   ]
  },
  {
   "cell_type": "markdown",
   "id": "f9eec926",
   "metadata": {
    "papermill": {
     "duration": 0.021425,
     "end_time": "2024-07-23T02:40:30.826073",
     "exception": false,
     "start_time": "2024-07-23T02:40:30.804648",
     "status": "completed"
    },
    "tags": []
   },
   "source": [
    "### Random Forest Classifier"
   ]
  },
  {
   "cell_type": "code",
   "execution_count": 37,
   "id": "699fdfd9",
   "metadata": {
    "execution": {
     "iopub.execute_input": "2024-07-23T02:40:30.873174Z",
     "iopub.status.busy": "2024-07-23T02:40:30.872684Z",
     "iopub.status.idle": "2024-07-23T02:40:33.166869Z",
     "shell.execute_reply": "2024-07-23T02:40:33.165663Z"
    },
    "papermill": {
     "duration": 2.321097,
     "end_time": "2024-07-23T02:40:33.169857",
     "exception": false,
     "start_time": "2024-07-23T02:40:30.848760",
     "status": "completed"
    },
    "tags": []
   },
   "outputs": [
    {
     "data": {
      "text/html": [
       "<style>#sk-container-id-2 {color: black;background-color: white;}#sk-container-id-2 pre{padding: 0;}#sk-container-id-2 div.sk-toggleable {background-color: white;}#sk-container-id-2 label.sk-toggleable__label {cursor: pointer;display: block;width: 100%;margin-bottom: 0;padding: 0.3em;box-sizing: border-box;text-align: center;}#sk-container-id-2 label.sk-toggleable__label-arrow:before {content: \"▸\";float: left;margin-right: 0.25em;color: #696969;}#sk-container-id-2 label.sk-toggleable__label-arrow:hover:before {color: black;}#sk-container-id-2 div.sk-estimator:hover label.sk-toggleable__label-arrow:before {color: black;}#sk-container-id-2 div.sk-toggleable__content {max-height: 0;max-width: 0;overflow: hidden;text-align: left;background-color: #f0f8ff;}#sk-container-id-2 div.sk-toggleable__content pre {margin: 0.2em;color: black;border-radius: 0.25em;background-color: #f0f8ff;}#sk-container-id-2 input.sk-toggleable__control:checked~div.sk-toggleable__content {max-height: 200px;max-width: 100%;overflow: auto;}#sk-container-id-2 input.sk-toggleable__control:checked~label.sk-toggleable__label-arrow:before {content: \"▾\";}#sk-container-id-2 div.sk-estimator input.sk-toggleable__control:checked~label.sk-toggleable__label {background-color: #d4ebff;}#sk-container-id-2 div.sk-label input.sk-toggleable__control:checked~label.sk-toggleable__label {background-color: #d4ebff;}#sk-container-id-2 input.sk-hidden--visually {border: 0;clip: rect(1px 1px 1px 1px);clip: rect(1px, 1px, 1px, 1px);height: 1px;margin: -1px;overflow: hidden;padding: 0;position: absolute;width: 1px;}#sk-container-id-2 div.sk-estimator {font-family: monospace;background-color: #f0f8ff;border: 1px dotted black;border-radius: 0.25em;box-sizing: border-box;margin-bottom: 0.5em;}#sk-container-id-2 div.sk-estimator:hover {background-color: #d4ebff;}#sk-container-id-2 div.sk-parallel-item::after {content: \"\";width: 100%;border-bottom: 1px solid gray;flex-grow: 1;}#sk-container-id-2 div.sk-label:hover label.sk-toggleable__label {background-color: #d4ebff;}#sk-container-id-2 div.sk-serial::before {content: \"\";position: absolute;border-left: 1px solid gray;box-sizing: border-box;top: 0;bottom: 0;left: 50%;z-index: 0;}#sk-container-id-2 div.sk-serial {display: flex;flex-direction: column;align-items: center;background-color: white;padding-right: 0.2em;padding-left: 0.2em;position: relative;}#sk-container-id-2 div.sk-item {position: relative;z-index: 1;}#sk-container-id-2 div.sk-parallel {display: flex;align-items: stretch;justify-content: center;background-color: white;position: relative;}#sk-container-id-2 div.sk-item::before, #sk-container-id-2 div.sk-parallel-item::before {content: \"\";position: absolute;border-left: 1px solid gray;box-sizing: border-box;top: 0;bottom: 0;left: 50%;z-index: -1;}#sk-container-id-2 div.sk-parallel-item {display: flex;flex-direction: column;z-index: 1;position: relative;background-color: white;}#sk-container-id-2 div.sk-parallel-item:first-child::after {align-self: flex-end;width: 50%;}#sk-container-id-2 div.sk-parallel-item:last-child::after {align-self: flex-start;width: 50%;}#sk-container-id-2 div.sk-parallel-item:only-child::after {width: 0;}#sk-container-id-2 div.sk-dashed-wrapped {border: 1px dashed gray;margin: 0 0.4em 0.5em 0.4em;box-sizing: border-box;padding-bottom: 0.4em;background-color: white;}#sk-container-id-2 div.sk-label label {font-family: monospace;font-weight: bold;display: inline-block;line-height: 1.2em;}#sk-container-id-2 div.sk-label-container {text-align: center;}#sk-container-id-2 div.sk-container {/* jupyter's `normalize.less` sets `[hidden] { display: none; }` but bootstrap.min.css set `[hidden] { display: none !important; }` so we also need the `!important` here to be able to override the default hidden behavior on the sphinx rendered scikit-learn.org. See: https://github.com/scikit-learn/scikit-learn/issues/21755 */display: inline-block !important;position: relative;}#sk-container-id-2 div.sk-text-repr-fallback {display: none;}</style><div id=\"sk-container-id-2\" class=\"sk-top-container\"><div class=\"sk-text-repr-fallback\"><pre>RandomForestClassifier(max_depth=10, n_estimators=300)</pre><b>In a Jupyter environment, please rerun this cell to show the HTML representation or trust the notebook. <br />On GitHub, the HTML representation is unable to render, please try loading this page with nbviewer.org.</b></div><div class=\"sk-container\" hidden><div class=\"sk-item\"><div class=\"sk-estimator sk-toggleable\"><input class=\"sk-toggleable__control sk-hidden--visually\" id=\"sk-estimator-id-2\" type=\"checkbox\" checked><label for=\"sk-estimator-id-2\" class=\"sk-toggleable__label sk-toggleable__label-arrow\">RandomForestClassifier</label><div class=\"sk-toggleable__content\"><pre>RandomForestClassifier(max_depth=10, n_estimators=300)</pre></div></div></div></div></div>"
      ],
      "text/plain": [
       "RandomForestClassifier(max_depth=10, n_estimators=300)"
      ]
     },
     "execution_count": 37,
     "metadata": {},
     "output_type": "execute_result"
    }
   ],
   "source": [
    "rnd_clf = RandomForestClassifier(n_estimators = 300, max_depth = 10)\n",
    "rnd_clf.fit(X_train, y_train)"
   ]
  },
  {
   "cell_type": "code",
   "execution_count": 38,
   "id": "86f8fdc6",
   "metadata": {
    "execution": {
     "iopub.execute_input": "2024-07-23T02:40:33.217944Z",
     "iopub.status.busy": "2024-07-23T02:40:33.217520Z",
     "iopub.status.idle": "2024-07-23T02:40:33.268126Z",
     "shell.execute_reply": "2024-07-23T02:40:33.266578Z"
    },
    "papermill": {
     "duration": 0.078019,
     "end_time": "2024-07-23T02:40:33.270689",
     "exception": false,
     "start_time": "2024-07-23T02:40:33.192670",
     "status": "completed"
    },
    "tags": []
   },
   "outputs": [
    {
     "name": "stdout",
     "output_type": "stream",
     "text": [
      "              precision    recall  f1-score   support\n",
      "\n",
      "           0       1.00      1.00      1.00       591\n",
      "           1       0.99      0.99      0.99       113\n",
      "\n",
      "    accuracy                           1.00       704\n",
      "   macro avg       0.99      0.99      0.99       704\n",
      "weighted avg       1.00      1.00      1.00       704\n",
      "\n"
     ]
    }
   ],
   "source": [
    "y_test_pred = rnd_clf.predict(X_test)\n",
    "print(classification_report(y_test, y_test_pred))"
   ]
  },
  {
   "cell_type": "code",
   "execution_count": 39,
   "id": "dea02f54",
   "metadata": {
    "execution": {
     "iopub.execute_input": "2024-07-23T02:40:33.317820Z",
     "iopub.status.busy": "2024-07-23T02:40:33.317407Z",
     "iopub.status.idle": "2024-07-23T02:40:33.537958Z",
     "shell.execute_reply": "2024-07-23T02:40:33.536631Z"
    },
    "papermill": {
     "duration": 0.247275,
     "end_time": "2024-07-23T02:40:33.540604",
     "exception": false,
     "start_time": "2024-07-23T02:40:33.293329",
     "status": "completed"
    },
    "tags": []
   },
   "outputs": [
    {
     "data": {
      "image/png": "[encoded data removed]",
      "text/plain": [
       "<Figure size 640x480 with 2 Axes>"
      ]
     },
     "metadata": {},
     "output_type": "display_data"
    }
   ],
   "source": [
    "cm = confusion_matrix(y_test, y_test_pred)\n",
    "disp = ConfusionMatrixDisplay(confusion_matrix=cm, display_labels=decision_clf.classes_)\n",
    "disp.plot(cmap='Blues', values_format='.0f')\n",
    "plt.title('Confusion Matrix')\n",
    "plt.show()\n"
   ]
  },
  {
   "cell_type": "code",
   "execution_count": 40,
   "id": "9faa2126",
   "metadata": {
    "execution": {
     "iopub.execute_input": "2024-07-23T02:40:33.592789Z",
     "iopub.status.busy": "2024-07-23T02:40:33.592396Z",
     "iopub.status.idle": "2024-07-23T02:40:33.623958Z",
     "shell.execute_reply": "2024-07-23T02:40:33.622833Z"
    },
    "papermill": {
     "duration": 0.060629,
     "end_time": "2024-07-23T02:40:33.626519",
     "exception": false,
     "start_time": "2024-07-23T02:40:33.565890",
     "status": "completed"
    },
    "tags": []
   },
   "outputs": [
    {
     "data": {
      "text/plain": [
       "Minimum Orbit Intersection     0.461747\n",
       "Est Dia in M(max)              0.118894\n",
       "Absolute Magnitude             0.094861\n",
       "Est Dia in M(min)              0.087314\n",
       "Inclination                    0.044044\n",
       "Perihelion Distance            0.037926\n",
       "Orbit Uncertainity             0.029390\n",
       "Miss Dist.(kilometers)         0.021129\n",
       "Miles per hour                 0.011495\n",
       "Eccentricity                   0.011114\n",
       "Relative Velocity km per hr    0.010627\n",
       "Perihelion Arg                 0.009045\n",
       "Semi Major Axis                0.008932\n",
       "Aphelion Dist                  0.008862\n",
       "Jupiter Tisserand Invariant    0.007758\n",
       "Mean Motion                    0.007181\n",
       "Orbital Period                 0.006981\n",
       "Mean Anomaly                   0.006079\n",
       "Asc Node Longitude             0.005268\n",
       "Epoch Date Close Approach      0.005192\n",
       "Perihelion Time                0.004752\n",
       "Epoch Osculation               0.001409\n",
       "dtype: float64"
      ]
     },
     "execution_count": 40,
     "metadata": {},
     "output_type": "execute_result"
    }
   ],
   "source": [
    "pd.Series(rnd_clf.feature_importances_, index = X_train.columns).sort_values(ascending = False)"
   ]
  },
  {
   "cell_type": "markdown",
   "id": "8f3223aa",
   "metadata": {
    "papermill": {
     "duration": 0.022706,
     "end_time": "2024-07-23T02:40:33.673167",
     "exception": false,
     "start_time": "2024-07-23T02:40:33.650461",
     "status": "completed"
    },
    "tags": []
   },
   "source": [
    "## inference : from the above we can use the random forest classifier for inference"
   ]
  },
  {
   "cell_type": "code",
   "execution_count": null,
   "id": "3985ec80",
   "metadata": {
    "papermill": {
     "duration": 0.022338,
     "end_time": "2024-07-23T02:40:33.719042",
     "exception": false,
     "start_time": "2024-07-23T02:40:33.696704",
     "status": "completed"
    },
    "tags": []
   },
   "outputs": [],
   "source": []
  }
 ],
 "metadata": {
  "kaggle": {
   "accelerator": "none",
   "dataSources": [
    {
     "datasetId": 14512,
     "sourceId": 19455,
     "sourceType": "datasetVersion"
    }
   ],
   "dockerImageVersionId": 30746,
   "isGpuEnabled": false,
   "isInternetEnabled": true,
   "language": "python",
   "sourceType": "notebook"
  },
  "kernelspec": {
   "display_name": "Python 3",
   "language": "python",
   "name": "python3"
  },
  "language_info": {
   "codemirror_mode": {
    "name": "ipython",
    "version": 3
   },
   "file_extension": ".py",
   "mimetype": "text/x-python",
   "name": "python",
   "nbconvert_exporter": "python",
   "pygments_lexer": "ipython3",
   "version": "3.10.13"
  },
  "papermill": {
   "default_parameters": {},
   "duration": 32.142307,
   "end_time": "2024-07-23T02:40:35.367113",
   "environment_variables": {},
   "exception": null,
   "input_path": "__notebook__.ipynb",
   "output_path": "__notebook__.ipynb",
   "parameters": {},
   "start_time": "2024-07-23T02:40:03.224806",
   "version": "2.5.0"
  }
 },
 "nbformat": 4,
 "nbformat_minor": 5
}
